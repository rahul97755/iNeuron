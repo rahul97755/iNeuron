{
 "cells": [
  {
   "cell_type": "markdown",
   "id": "2527836d-0c73-4e88-ad2f-73869c2edd57",
   "metadata": {},
   "source": [
    "1.\tWrite a Python program to convert kilometers to miles?"
   ]
  },
  {
   "cell_type": "code",
   "execution_count": 8,
   "id": "e076be7b-e760-41e1-9196-2c3776f7144c",
   "metadata": {},
   "outputs": [],
   "source": [
    "def kim_mile():\n",
    "    km=float(input())\n",
    "    print(f'The KM is {km}')\n",
    "    mile=km*0.621371\n",
    "    print(f'The mile is {mile}')"
   ]
  },
  {
   "cell_type": "code",
   "execution_count": 9,
   "id": "24963763-c9e4-4123-8060-9278005c47dd",
   "metadata": {},
   "outputs": [
    {
     "name": "stdin",
     "output_type": "stream",
     "text": [
      " 1000.23\n"
     ]
    },
    {
     "name": "stdout",
     "output_type": "stream",
     "text": [
      "The KM is 1000.23\n",
      "The mile is 621.51391533\n"
     ]
    }
   ],
   "source": [
    "kim_mile()"
   ]
  },
  {
   "cell_type": "markdown",
   "id": "e4b39fb0-afe4-4084-a800-9932e1ab0187",
   "metadata": {},
   "source": [
    "2.\tWrite a Python program to convert Celsius to Fahrenheit?"
   ]
  },
  {
   "cell_type": "code",
   "execution_count": 17,
   "id": "36cff17a-c271-42b6-8266-6f4cae85fbaf",
   "metadata": {},
   "outputs": [],
   "source": [
    "def cel_fer():\n",
    "    cel=float(input())\n",
    "    print(f'The Celsius is {cel}')\n",
    "    \n",
    "    fer=(cel*1.8)+32\n",
    "    \n",
    "    print(f'The fahrenheit is {fer}')\n",
    "          \n"
   ]
  },
  {
   "cell_type": "code",
   "execution_count": 18,
   "id": "1782fc53-7e31-407b-b358-bfee3bf242ee",
   "metadata": {},
   "outputs": [
    {
     "name": "stdin",
     "output_type": "stream",
     "text": [
      " 100\n"
     ]
    },
    {
     "name": "stdout",
     "output_type": "stream",
     "text": [
      "The Celsius is 100.0\n",
      "The fahrenheit is 212.0\n"
     ]
    }
   ],
   "source": [
    "cel_fer()"
   ]
  },
  {
   "cell_type": "markdown",
   "id": "323ff5d7-2018-4ff9-84b5-29d549c8bf5c",
   "metadata": {},
   "source": [
    "3.\tWrite a Python program to display calendar?"
   ]
  },
  {
   "cell_type": "code",
   "execution_count": 95,
   "id": "cf9958fb-7f99-4217-9490-efb79a23b6d1",
   "metadata": {},
   "outputs": [],
   "source": [
    "\n",
    "def cldr():\n",
    "    import calendar\n",
    "    try:\n",
    "        mm=int(input('Please Enter month'))\n",
    "        yyyy= int(input('Please enter year'))\n",
    "\n",
    "        if len(str(mm))>2:\n",
    "            print('Please enter a valid month')\n",
    "        if len(str((yyyy)))>4 :\n",
    "            print('Please enter a valid year')\n",
    "        else:\n",
    "            print(calendar.month(yyyy, mm)) \n",
    "    except:\n",
    "        pass\n",
    "\n",
    "    \n",
    "        "
   ]
  },
  {
   "cell_type": "code",
   "execution_count": 96,
   "id": "5ddb21db-e3e2-4885-8791-9d5925112ee1",
   "metadata": {},
   "outputs": [
    {
     "name": "stdin",
     "output_type": "stream",
     "text": [
      "Please Enter month 12\n",
      "Please enter year 2022\n"
     ]
    },
    {
     "name": "stdout",
     "output_type": "stream",
     "text": [
      "   December 2022\n",
      "Mo Tu We Th Fr Sa Su\n",
      "          1  2  3  4\n",
      " 5  6  7  8  9 10 11\n",
      "12 13 14 15 16 17 18\n",
      "19 20 21 22 23 24 25\n",
      "26 27 28 29 30 31\n",
      "\n"
     ]
    }
   ],
   "source": [
    "cldr()"
   ]
  },
  {
   "cell_type": "markdown",
   "id": "d6b85234-3f06-4fd4-8e38-c4651b0249b5",
   "metadata": {},
   "source": [
    "4.\tWrite a Python program to solve quadratic equation?"
   ]
  },
  {
   "cell_type": "code",
   "execution_count": 99,
   "id": "2063aaca-ad58-4f20-884d-8a6c843f163a",
   "metadata": {},
   "outputs": [
    {
     "name": "stdout",
     "output_type": "stream",
     "text": [
      "(-0.6-1.2j)\n"
     ]
    }
   ],
   "source": [
    "import cmath\n",
    "\n",
    "a = 10\n",
    "b = 12\n",
    "c = 18\n",
    "\n",
    "# calculate the discriminant\n",
    "d = (b**2) - (4*a*c)\n",
    "\n",
    "# find two solutions\n",
    "sol1 = (-b-cmath.sqrt(d))/(2*a)\n",
    "sol2 = (-b+cmath.sqrt(d))/(2*a)\n",
    "\n",
    "print(sol1)"
   ]
  },
  {
   "cell_type": "markdown",
   "id": "f569703c-5bd0-4943-a20b-ee7cc9e49c8a",
   "metadata": {},
   "source": [
    "5.\tWrite a Python program to swap two variables without temp variable?"
   ]
  },
  {
   "cell_type": "code",
   "execution_count": 100,
   "id": "8c724751-6041-448b-9099-f3ec08bf821b",
   "metadata": {},
   "outputs": [
    {
     "name": "stdout",
     "output_type": "stream",
     "text": [
      "Before swapping: \n",
      "Value of x :  5  and y :  7\n",
      "After swapping: \n",
      "Value of x :  7  and y :  5\n"
     ]
    }
   ],
   "source": [
    "x = 5\n",
    "y = 7\n",
    " \n",
    "print (\"Before swapping: \")\n",
    "print(\"Value of x : \", x, \" and y : \", y)\n",
    " \n",
    "# code to swap 'x' and 'y'\n",
    "x, y = y, x\n",
    " \n",
    "print (\"After swapping: \")\n",
    "print(\"Value of x : \", x, \" and y : \", y)"
   ]
  }
 ],
 "metadata": {
  "kernelspec": {
   "display_name": "Python 3 (ipykernel)",
   "language": "python",
   "name": "python3"
  },
  "language_info": {
   "codemirror_mode": {
    "name": "ipython",
    "version": 3
   },
   "file_extension": ".py",
   "mimetype": "text/x-python",
   "name": "python",
   "nbconvert_exporter": "python",
   "pygments_lexer": "ipython3",
   "version": "3.9.12"
  }
 },
 "nbformat": 4,
 "nbformat_minor": 5
}
