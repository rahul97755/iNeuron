{
 "cells": [
  {
   "cell_type": "markdown",
   "id": "a0c906e7-5786-4803-907b-49283ca9871e",
   "metadata": {},
   "source": [
    "1.\tWrite a Python program to print \"Hello Python\"?"
   ]
  },
  {
   "cell_type": "code",
   "execution_count": 4,
   "id": "5c021b8d-ae40-482b-ae68-4b450d460933",
   "metadata": {},
   "outputs": [
    {
     "name": "stdout",
     "output_type": "stream",
     "text": [
      "Hello Python\n"
     ]
    }
   ],
   "source": [
    "print('Hello Python')"
   ]
  },
  {
   "cell_type": "markdown",
   "id": "af995167-1750-4986-aefb-085fb76db4ee",
   "metadata": {},
   "source": [
    "2.\tWrite a Python program to do arithmetical operations addition and division.?"
   ]
  },
  {
   "cell_type": "code",
   "execution_count": 7,
   "id": "234d16c9-673d-49b8-9382-ca789d510fc4",
   "metadata": {},
   "outputs": [
    {
     "data": {
      "text/plain": [
       "5"
      ]
     },
     "execution_count": 7,
     "metadata": {},
     "output_type": "execute_result"
    }
   ],
   "source": [
    "def addi(a,b):\n",
    "    return a+b\n",
    "\n",
    "addi(2,3)"
   ]
  },
  {
   "cell_type": "code",
   "execution_count": 21,
   "id": "f03f4b07-2c0a-4e20-9782-93f3986950dd",
   "metadata": {},
   "outputs": [],
   "source": [
    "def div(a,b):\n",
    "        return (a/b)\n",
    "    "
   ]
  },
  {
   "cell_type": "code",
   "execution_count": 22,
   "id": "1455969d-1ec3-4078-9582-5c7683d53b5c",
   "metadata": {},
   "outputs": [
    {
     "data": {
      "text/plain": [
       "2.0"
      ]
     },
     "execution_count": 22,
     "metadata": {},
     "output_type": "execute_result"
    }
   ],
   "source": [
    "div(4,2)"
   ]
  },
  {
   "cell_type": "markdown",
   "id": "3a4681cd-c69e-43fd-aa9a-e4b45abbd4f4",
   "metadata": {},
   "source": [
    "3.\tWrite a Python program to find the area of a triangle?"
   ]
  },
  {
   "cell_type": "code",
   "execution_count": 23,
   "id": "6ca75f31-c801-4764-b42c-7e0544e011ef",
   "metadata": {},
   "outputs": [],
   "source": [
    "def area_tri(base,hight):\n",
    "    area=1/2*(base*hight)\n",
    "    return area"
   ]
  },
  {
   "cell_type": "code",
   "execution_count": 24,
   "id": "c775f4ad-0b9c-428b-b3a1-465544d179d9",
   "metadata": {},
   "outputs": [
    {
     "data": {
      "text/plain": [
       "300.0"
      ]
     },
     "execution_count": 24,
     "metadata": {},
     "output_type": "execute_result"
    }
   ],
   "source": [
    "area_tri(20,30)"
   ]
  },
  {
   "cell_type": "markdown",
   "id": "e7522f18-a817-4862-84e5-94034a3a3aa8",
   "metadata": {},
   "source": [
    "4.\tWrite a Python program to swap two variables?"
   ]
  },
  {
   "cell_type": "code",
   "execution_count": 33,
   "id": "95c8b9de-de2d-496b-88bf-b8dc9e4b7e0b",
   "metadata": {},
   "outputs": [],
   "source": [
    "def swap_v():\n",
    "    var1=input()\n",
    "    print('the first variable is',var1)\n",
    "    var2=input()\n",
    "    print('the second variable is',var2)\n",
    "    print(f'before swap the value of first variable {var1} value of second varibale {var2}' )\n",
    "    var3=var1\n",
    "    var1=var2\n",
    "    var2=var3\n",
    "    print(f'after swap the value of first variable {var1} value of second varibale {var2}' )"
   ]
  },
  {
   "cell_type": "code",
   "execution_count": 34,
   "id": "a618f64f-1c23-458a-8e54-fdb836a7516b",
   "metadata": {},
   "outputs": [
    {
     "name": "stdin",
     "output_type": "stream",
     "text": [
      " 22\n"
     ]
    },
    {
     "name": "stdout",
     "output_type": "stream",
     "text": [
      "the first variable is 22\n"
     ]
    },
    {
     "name": "stdin",
     "output_type": "stream",
     "text": [
      " 11\n"
     ]
    },
    {
     "name": "stdout",
     "output_type": "stream",
     "text": [
      "the second variable is 11\n",
      "before swap the value of first variable 22 value of second varibale 11\n",
      "after swap the value of first variable 11 value of second varibale 22\n"
     ]
    }
   ],
   "source": [
    "swap_v()"
   ]
  },
  {
   "cell_type": "markdown",
   "id": "75b9012f-c4ed-486f-9b67-5a80a3cd1689",
   "metadata": {},
   "source": [
    "5.\tWrite a Python program to generate a random number?"
   ]
  },
  {
   "cell_type": "code",
   "execution_count": 43,
   "id": "221ff0d8-924a-481f-9798-0d86d4b090f8",
   "metadata": {},
   "outputs": [
    {
     "name": "stdout",
     "output_type": "stream",
     "text": [
      "0.04935739322075061\n"
     ]
    }
   ],
   "source": [
    "import random\n",
    "num = random.random()\n",
    "print(num)\n"
   ]
  },
  {
   "cell_type": "code",
   "execution_count": null,
   "id": "74b6c74c-b47f-46c3-b13e-f2af796d57bd",
   "metadata": {},
   "outputs": [],
   "source": []
  }
 ],
 "metadata": {
  "kernelspec": {
   "display_name": "Python 3 (ipykernel)",
   "language": "python",
   "name": "python3"
  },
  "language_info": {
   "codemirror_mode": {
    "name": "ipython",
    "version": 3
   },
   "file_extension": ".py",
   "mimetype": "text/x-python",
   "name": "python",
   "nbconvert_exporter": "python",
   "pygments_lexer": "ipython3",
   "version": "3.9.12"
  }
 },
 "nbformat": 4,
 "nbformat_minor": 5
}
