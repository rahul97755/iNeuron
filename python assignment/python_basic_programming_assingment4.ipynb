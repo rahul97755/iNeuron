{
 "cells": [
  {
   "cell_type": "markdown",
   "id": "5a0d3cd5-8138-413d-8336-ed7c00d9fb30",
   "metadata": {},
   "source": [
    "1.\tWrite a Python Program to Find the Factorial of a Number?"
   ]
  },
  {
   "cell_type": "code",
   "execution_count": 36,
   "id": "8638980c-9c9b-4d3c-933c-afbf86d66e56",
   "metadata": {},
   "outputs": [],
   "source": [
    "def fecto():\n",
    "    try:\n",
    "        num= int(input('Please enter number'))\n",
    "        fac=1\n",
    "        if num<0 :\n",
    "            print(f'{num} is less than zero')\n",
    "        elif num==0:\n",
    "            print(f'Factorial of {num} is 1')\n",
    "        else:\n",
    "            for i in range(1,num+1):\n",
    "                fac=fac*i\n",
    "        print (f'The factorial of {num} is {fac}')\n",
    "    except Exception as e :\n",
    "        print(f'The exception error is : {e} ')\n",
    "        print('Please enter an integer')\n",
    "        \n",
    "            \n",
    "\n"
   ]
  },
  {
   "cell_type": "code",
   "execution_count": 38,
   "id": "94f60fd1-6cf2-4c51-9884-f0ac6559a5a0",
   "metadata": {},
   "outputs": [
    {
     "name": "stdin",
     "output_type": "stream",
     "text": [
      "Please enter number 5\n"
     ]
    },
    {
     "name": "stdout",
     "output_type": "stream",
     "text": [
      "The factorial of 5 is 120\n"
     ]
    }
   ],
   "source": [
    "fecto()"
   ]
  },
  {
   "cell_type": "markdown",
   "id": "adbcfb06-7bc3-425b-b81e-8547c17b74d6",
   "metadata": {},
   "source": [
    "2.\tWrite a Python Program to Display the multiplication Table?"
   ]
  },
  {
   "cell_type": "code",
   "execution_count": 52,
   "id": "c7ae63da-b090-4a34-8afa-81394ebfa94e",
   "metadata": {},
   "outputs": [],
   "source": [
    "def mul():\n",
    "    try:\n",
    "        i=1\n",
    "        num=int(input())\n",
    "        for i in range (1,11):\n",
    "            mul=num*i\n",
    "            print(f'({i}*{num})= {mul}')\n",
    "    except Exception as e :\n",
    "        print(f'The exception error is : {e} ')\n",
    "        print('Please enter an integer')\n",
    "        \n",
    "            \n",
    "            "
   ]
  },
  {
   "cell_type": "code",
   "execution_count": 53,
   "id": "cb09693b-e9ab-4884-add4-14e7296f76d3",
   "metadata": {},
   "outputs": [
    {
     "name": "stdin",
     "output_type": "stream",
     "text": [
      " 12\n"
     ]
    },
    {
     "name": "stdout",
     "output_type": "stream",
     "text": [
      "(1*12)= 12\n",
      "(2*12)= 24\n",
      "(3*12)= 36\n",
      "(4*12)= 48\n",
      "(5*12)= 60\n",
      "(6*12)= 72\n",
      "(7*12)= 84\n",
      "(8*12)= 96\n",
      "(9*12)= 108\n",
      "(10*12)= 120\n"
     ]
    }
   ],
   "source": [
    "mul()"
   ]
  },
  {
   "cell_type": "markdown",
   "id": "657c26c9-eca5-4701-905a-68220adf3bcb",
   "metadata": {},
   "source": [
    "3.\tWrite a Python Program to Print the Fibonacci sequence?"
   ]
  },
  {
   "cell_type": "code",
   "execution_count": 61,
   "id": "5679f1de-da6e-432d-affd-27f727e06fd8",
   "metadata": {},
   "outputs": [],
   "source": [
    "def Fibonacci(n):\n",
    "    if n < 0:\n",
    "        print(\"Incorrect input\")\n",
    " \n",
    "    # Check if n is 0\n",
    "    # then it will return 0\n",
    "    elif n == 0:\n",
    "        return 0\n",
    "    elif n == 1 or n == 2:\n",
    "        return 1\n",
    " \n",
    "    else:\n",
    "        return Fibonacci(n-1) + Fibonacci(n-2)\n",
    " "
   ]
  },
  {
   "cell_type": "code",
   "execution_count": 63,
   "id": "f41b11b0-fe0a-486e-97c2-9b57cc268bf5",
   "metadata": {},
   "outputs": [
    {
     "data": {
      "text/plain": [
       "144"
      ]
     },
     "execution_count": 63,
     "metadata": {},
     "output_type": "execute_result"
    }
   ],
   "source": [
    "Fibonacci(12)"
   ]
  },
  {
   "cell_type": "markdown",
   "id": "4f6779ab-ecf0-4a8c-be41-591a8ce3d5a2",
   "metadata": {},
   "source": [
    "4.\tWrite a Python Program to Check Armstrong Number?"
   ]
  },
  {
   "cell_type": "code",
   "execution_count": 1,
   "id": "478d4190-1bfd-435a-adb8-76d2cb7c077f",
   "metadata": {},
   "outputs": [],
   "source": [
    "def amst():\n",
    "    try:\n",
    "        num= int(input('Please enter number'))\n",
    "        cnt=len(str(num))\n",
    "        sum=0\n",
    "        temp=num\n",
    "        while temp>0:\n",
    "            dig=temp%10\n",
    "            sum+=dig*dig*dig\n",
    "            temp = temp//10\n",
    "        if sum==num:\n",
    "                print('It is an Armstrong number')\n",
    "        else:\n",
    "                print('It is not an Armstrong number')\n",
    "        \n",
    "    except Exception as e :\n",
    "        print(f'The exception error is : {e} ')\n",
    "        print('Please enter an integer')   \n",
    "        \n",
    "        \n",
    "    "
   ]
  },
  {
   "cell_type": "code",
   "execution_count": 11,
   "id": "8a5d7e5d-a562-4b58-bb35-495b1de92c17",
   "metadata": {},
   "outputs": [
    {
     "name": "stdin",
     "output_type": "stream",
     "text": [
      "Please enter number 371\n"
     ]
    },
    {
     "name": "stdout",
     "output_type": "stream",
     "text": [
      "It is an Armstrong number\n"
     ]
    }
   ],
   "source": [
    "amst()"
   ]
  },
  {
   "cell_type": "markdown",
   "id": "23dc2c4a-a959-4c44-b3e2-3ca8fce52a09",
   "metadata": {},
   "source": [
    "5.\tWrite a Python Program to Find Armstrong Number in an Interval?"
   ]
  },
  {
   "cell_type": "markdown",
   "id": "3883e0ad-5cba-4612-bb44-874175ee9985",
   "metadata": {},
   "source": [
    "def amst_interval():\n",
    "    try:\n",
    "        num1= int(input('Please enter lower interal'))\n",
    "        num2= int(input('Please enter upper interal'))\n",
    "        \n",
    "        for i in range(num1,num2):\n",
    "            temp=i\n",
    "            sum=0\n",
    "            while temp>0:\n",
    "                dig=temp%10\n",
    "                sum+=dig*dig*dig\n",
    "                temp = temp//10\n",
    "                if sum==i:\n",
    "                    print(f'Armstrong numbers are {i}')\n",
    "            \n",
    "            \n",
    "    except Exception as e :\n",
    "        print(f'The exception error is : {e} ')\n",
    "        print('Please enter an integer')   \n",
    "        \n",
    "        \n",
    "    "
   ]
  },
  {
   "cell_type": "code",
   "execution_count": 12,
   "id": "a473503b-655a-430a-a0f3-adc06275803a",
   "metadata": {},
   "outputs": [
    {
     "name": "stdin",
     "output_type": "stream",
     "text": [
      "Please enter lower interal 200\n",
      "Please enter upper interal 1000\n"
     ]
    },
    {
     "name": "stdout",
     "output_type": "stream",
     "text": [
      "Armstrong numbers are 216\n",
      "Armstrong numbers are 370\n",
      "Armstrong numbers are 371\n",
      "Armstrong numbers are 407\n",
      "Armstrong numbers are 729\n"
     ]
    }
   ],
   "source": [
    "amst_interval()"
   ]
  },
  {
   "cell_type": "markdown",
   "id": "4df9924e-5a61-4ec1-bec0-f6c1a711b241",
   "metadata": {},
   "source": [
    "6.\tWrite a Python Program to Find the Sum of Natural Numbers?"
   ]
  },
  {
   "cell_type": "code",
   "execution_count": 13,
   "id": "0f5dd092-0c7d-4f4c-85b8-3a1aa5d0775b",
   "metadata": {},
   "outputs": [
    {
     "name": "stdout",
     "output_type": "stream",
     "text": [
      "The sum is 136\n"
     ]
    }
   ],
   "source": [
    "num = 16\n",
    "\n",
    "if num < 0:\n",
    "   print(\"Enter a positive number\")\n",
    "else:\n",
    "   sum = 0\n",
    "   # use while loop to iterate until zero\n",
    "   while(num > 0):\n",
    "       sum += num\n",
    "       num -= 1\n",
    "   print(\"The sum is\", sum)"
   ]
  }
 ],
 "metadata": {
  "kernelspec": {
   "display_name": "Python 3 (ipykernel)",
   "language": "python",
   "name": "python3"
  },
  "language_info": {
   "codemirror_mode": {
    "name": "ipython",
    "version": 3
   },
   "file_extension": ".py",
   "mimetype": "text/x-python",
   "name": "python",
   "nbconvert_exporter": "python",
   "pygments_lexer": "ipython3",
   "version": "3.9.12"
  }
 },
 "nbformat": 4,
 "nbformat_minor": 5
}
