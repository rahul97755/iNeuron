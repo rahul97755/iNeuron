{
 "cells": [
  {
   "cell_type": "markdown",
   "metadata": {
    "id": "6Nw9DRc2Hern"
   },
   "source": [
    "#Python Basic 21"
   ]
  },
  {
   "cell_type": "markdown",
   "metadata": {
    "id": "X7D5mbcXHi5l"
   },
   "source": [
    ">  Q. Add the current date to the text file today.txt as a string."
   ]
  },
  {
   "cell_type": "code",
   "execution_count": 1,
   "metadata": {
    "colab": {
     "base_uri": "https://localhost:8080/",
     "height": 35
    },
    "executionInfo": {
     "elapsed": 399,
     "status": "ok",
     "timestamp": 1627041464886,
     "user": {
      "displayName": "Yuno Clover",
      "photoUrl": "",
      "userId": "14793961318254159012"
     },
     "user_tz": -330
    },
    "id": "U166OAE1HbK8",
    "outputId": "13412dea-c990-4619-934e-624109f9f81a"
   },
   "outputs": [
    {
     "data": {
      "text/plain": [
       "'2023-05-27'"
      ]
     },
     "execution_count": 1,
     "metadata": {},
     "output_type": "execute_result"
    }
   ],
   "source": [
    "import datetime\n",
    "from datetime import date\n",
    "now = date.today()\n",
    "cur_date = now.isoformat()\n",
    "cur_date"
   ]
  },
  {
   "cell_type": "code",
   "execution_count": 2,
   "metadata": {
    "executionInfo": {
     "elapsed": 400,
     "status": "ok",
     "timestamp": 1627041468934,
     "user": {
      "displayName": "Yuno Clover",
      "photoUrl": "",
      "userId": "14793961318254159012"
     },
     "user_tz": -330
    },
    "id": "rnhAo-QIHouq"
   },
   "outputs": [],
   "source": [
    "with open('today.txt','w') as file:\n",
    "    file.write(cur_date)"
   ]
  },
  {
   "cell_type": "markdown",
   "metadata": {
    "id": "uj1iKwb0Ic_2"
   },
   "source": [
    "> Q. Read the text file today.txt into the string today_string"
   ]
  },
  {
   "cell_type": "code",
   "execution_count": 3,
   "metadata": {
    "colab": {
     "base_uri": "https://localhost:8080/",
     "height": 35
    },
    "executionInfo": {
     "elapsed": 13,
     "status": "ok",
     "timestamp": 1627041470753,
     "user": {
      "displayName": "Yuno Clover",
      "photoUrl": "",
      "userId": "14793961318254159012"
     },
     "user_tz": -330
    },
    "id": "qXCd1k-gIYiF",
    "outputId": "37ff38dd-29b4-4ecf-94f6-83476eb2c182"
   },
   "outputs": [
    {
     "data": {
      "text/plain": [
       "'2023-05-27'"
      ]
     },
     "execution_count": 3,
     "metadata": {},
     "output_type": "execute_result"
    }
   ],
   "source": [
    "with open('today.txt','r') as file:\n",
    "    today_string = file.read()\n",
    "today_string"
   ]
  },
  {
   "cell_type": "markdown",
   "metadata": {
    "id": "LrIDHGFBIig7"
   },
   "source": [
    "> Q. Parse the date from today_string."
   ]
  },
  {
   "cell_type": "code",
   "execution_count": 4,
   "metadata": {
    "colab": {
     "base_uri": "https://localhost:8080/"
    },
    "executionInfo": {
     "elapsed": 392,
     "status": "ok",
     "timestamp": 1627041473603,
     "user": {
      "displayName": "Yuno Clover",
      "photoUrl": "",
      "userId": "14793961318254159012"
     },
     "user_tz": -330
    },
    "id": "MuwBYzZFIfw7",
    "outputId": "063aa12f-3062-4447-d4c9-82df2d4f6d60"
   },
   "outputs": [
    {
     "data": {
      "text/plain": [
       "datetime.datetime(2023, 5, 27, 0, 0)"
      ]
     },
     "execution_count": 4,
     "metadata": {},
     "output_type": "execute_result"
    }
   ],
   "source": [
    "from datetime import datetime\n",
    "format = '%Y-%m-%d'\n",
    "datetime.strptime(today_string,format)"
   ]
  },
  {
   "cell_type": "markdown",
   "metadata": {
    "id": "WxS5ql4HIns3"
   },
   "source": [
    "> Q. List the files in your current directory"
   ]
  },
  {
   "cell_type": "code",
   "execution_count": 5,
   "metadata": {
    "colab": {
     "base_uri": "https://localhost:8080/"
    },
    "executionInfo": {
     "elapsed": 412,
     "status": "ok",
     "timestamp": 1627041476634,
     "user": {
      "displayName": "Yuno Clover",
      "photoUrl": "",
      "userId": "14793961318254159012"
     },
     "user_tz": -330
    },
    "id": "CT1raJTeIk7J",
    "outputId": "4a592015-8e8e-4e72-f247-d5211b0a18ed"
   },
   "outputs": [
    {
     "data": {
      "text/plain": [
       "['.anaconda',\n",
       " '.aws',\n",
       " '.azure',\n",
       " '.bash_history',\n",
       " '.conda',\n",
       " '.condarc',\n",
       " '.continuum',\n",
       " '.docker',\n",
       " '.gitconfig',\n",
       " '.ipynb_checkpoints',\n",
       " '.ipython',\n",
       " '.jupyter',\n",
       " '.lesshst',\n",
       " '.matplotlib',\n",
       " '.ssh',\n",
       " '.vscode',\n",
       " '.vscode-cli',\n",
       " 'anaconda3',\n",
       " 'AppData',\n",
       " 'Application Data',\n",
       " 'Assignment_20.ipynb',\n",
       " 'Assignment_21.ipynb',\n",
       " 'books.csv',\n",
       " 'books.db',\n",
       " 'Contacts',\n",
       " 'Cookies',\n",
       " 'Desktop',\n",
       " 'Documents',\n",
       " 'Downloads',\n",
       " 'Dropbox',\n",
       " 'elastic_net.pickle',\n",
       " 'Favorites',\n",
       " 'fun_tool.py',\n",
       " 'fun_tools.ipynb',\n",
       " 'fun_tools_v.ipynb',\n",
       " 'iNeuron_credit_card_default_prediction-Copy1.ipynb',\n",
       " 'iNeuron_credit_card_default_prediction-Copy2.ipynb',\n",
       " 'iNeuron_credit_card_default_prediction.ipynb',\n",
       " 'iNeuron_credit_card_default_prediction.log',\n",
       " 'iNeuron_credit_card_default_prediction1.log',\n",
       " 'iNeuron_python_assignment1.ipynb',\n",
       " 'IntelGraphicsProfiles',\n",
       " 'linear_reg.pickle',\n",
       " 'linear_reg.pkl',\n",
       " 'linear_reg.sav',\n",
       " 'linear_regression_assignment1.log',\n",
       " 'Links',\n",
       " 'Local Settings',\n",
       " 'ML_assignment1_linear_reg_class.ipynb',\n",
       " 'ML_assignment1_linear_reg_EDA.ipynb',\n",
       " 'ml_fun_tools.py',\n",
       " 'Music',\n",
       " 'My Documents',\n",
       " 'NetHood',\n",
       " 'NTUSER.DAT',\n",
       " 'ntuser.dat.LOG1',\n",
       " 'ntuser.dat.LOG2',\n",
       " 'NTUSER.DAT{f98974cf-af8c-11ed-add3-fc331ff357d8}.TM.blf',\n",
       " 'NTUSER.DAT{f98974cf-af8c-11ed-add3-fc331ff357d8}.TMContainer00000000000000000001.regtrans-ms',\n",
       " 'NTUSER.DAT{f98974cf-af8c-11ed-add3-fc331ff357d8}.TMContainer00000000000000000002.regtrans-ms',\n",
       " 'ntuser.ini',\n",
       " 'OneDrive',\n",
       " 'PrintHood',\n",
       " 'Programming_Assingment1.ipynb',\n",
       " 'Python Basic 19.ipynb',\n",
       " 'python basis m3 school .ipynb',\n",
       " 'Python class intutave .ipynb',\n",
       " 'python_basic_programming_assingment10.ipynb',\n",
       " 'python_basic_programming_assingment11.ipynb',\n",
       " 'python_basic_programming_assingment12.ipynb',\n",
       " 'python_basic_programming_assingment13.ipynb',\n",
       " 'python_basic_programming_assingment14.ipynb',\n",
       " 'python_basic_programming_assingment2.ipynb',\n",
       " 'python_basic_programming_assingment25.ipynb',\n",
       " 'python_basic_programming_assingment3.ipynb',\n",
       " 'python_basic_programming_assingment4.ipynb',\n",
       " 'python_basic_programming_assingment5-Copy1.ipynb',\n",
       " 'python_basic_programming_assingment5.ipynb',\n",
       " 'python_basic_programming_assingment6.ipynb',\n",
       " 'python_basic_programming_assingment7.ipynb',\n",
       " 'python_basic_programming_assingment8.ipynb',\n",
       " 'python_basic_programming_assingment9.ipynb',\n",
       " 'Recent',\n",
       " 'Saved Games',\n",
       " 'scorecard_pk.py',\n",
       " 'Searches',\n",
       " 'SendTo',\n",
       " 'Start Menu',\n",
       " 'Templates',\n",
       " 'test.txt',\n",
       " 'today.txt',\n",
       " 'Untitled Folder',\n",
       " 'Untitled.ipynb',\n",
       " 'Untitled1.ipynb',\n",
       " 'Untitled2.ipynb',\n",
       " 'Untitled3.ipynb',\n",
       " 'Untitled4.ipynb',\n",
       " 'Untitled5.ipynb',\n",
       " 'util.py.ipynb',\n",
       " 'Videos',\n",
       " '__pycache__']"
      ]
     },
     "execution_count": 5,
     "metadata": {},
     "output_type": "execute_result"
    }
   ],
   "source": [
    "import os\n",
    "os.listdir('.')"
   ]
  },
  {
   "cell_type": "markdown",
   "metadata": {
    "id": "t_cu3DbGJ2e_"
   },
   "source": [
    "> Q.  Use multiprocessing to create three separate processes. Make each one wait a random number of seconds between one and five, print the current time, and then exit."
   ]
  },
  {
   "cell_type": "code",
   "execution_count": 6,
   "metadata": {
    "executionInfo": {
     "elapsed": 8,
     "status": "ok",
     "timestamp": 1627041478767,
     "user": {
      "displayName": "Yuno Clover",
      "photoUrl": "",
      "userId": "14793961318254159012"
     },
     "user_tz": -330
    },
    "id": "Gr2Lds7eJ8A7"
   },
   "outputs": [],
   "source": [
    "import multiprocessing\n",
    "\n",
    "def printsec(seconds):\n",
    "    from datetime import datetime\n",
    "    from time import sleep\n",
    "    sleep(seconds)\n",
    "    print('wait', seconds, 'seconds, time is', datetime.utcnow())\n",
    "    \n",
    "if __name__ == '__main__':\n",
    "    import random    \n",
    "    for n in range(3):\n",
    "        seconds = random.random()\n",
    "        proc = multiprocessing.Process(target=printsec, args=(seconds,))\n",
    "        proc.start()"
   ]
  },
  {
   "cell_type": "code",
   "execution_count": 7,
   "metadata": {
    "colab": {
     "base_uri": "https://localhost:8080/"
    },
    "executionInfo": {
     "elapsed": 1304,
     "status": "ok",
     "timestamp": 1627041481604,
     "user": {
      "displayName": "Yuno Clover",
      "photoUrl": "",
      "userId": "14793961318254159012"
     },
     "user_tz": -330
    },
    "id": "xH6iP_F5J-YN",
    "outputId": "a4004d40-121e-4d2a-e5a6-6b56a5e963e2"
   },
   "outputs": [
    {
     "name": "stderr",
     "output_type": "stream",
     "text": [
      "python: can't open file 'C:\\Users\\rahul\\abc.py': [Errno 2] No such file or directory\n"
     ]
    }
   ],
   "source": [
    "!python abc.py"
   ]
  },
  {
   "cell_type": "markdown",
   "metadata": {
    "id": "3DQeVniENrtd"
   },
   "source": [
    "> Q. Create a date object of your day of birth"
   ]
  },
  {
   "cell_type": "code",
   "execution_count": 8,
   "metadata": {
    "colab": {
     "base_uri": "https://localhost:8080/"
    },
    "executionInfo": {
     "elapsed": 8,
     "status": "ok",
     "timestamp": 1627041484025,
     "user": {
      "displayName": "Yuno Clover",
      "photoUrl": "",
      "userId": "14793961318254159012"
     },
     "user_tz": -330
    },
    "id": "z4QUpLFOKG_v",
    "outputId": "4681c045-6350-41c5-f8aa-d864ecdb084f"
   },
   "outputs": [
    {
     "data": {
      "text/plain": [
       "datetime.date(1998, 9, 9)"
      ]
     },
     "execution_count": 8,
     "metadata": {},
     "output_type": "execute_result"
    }
   ],
   "source": [
    "my_dob = date(1998,9,9)\n",
    "my_dob"
   ]
  },
  {
   "cell_type": "markdown",
   "metadata": {
    "id": "Dz-aFuxDN9Zl"
   },
   "source": [
    "> Q. What day of the week was your day of birth?"
   ]
  },
  {
   "cell_type": "code",
   "execution_count": 9,
   "metadata": {
    "colab": {
     "base_uri": "https://localhost:8080/"
    },
    "executionInfo": {
     "elapsed": 379,
     "status": "ok",
     "timestamp": 1627041487197,
     "user": {
      "displayName": "Yuno Clover",
      "photoUrl": "",
      "userId": "14793961318254159012"
     },
     "user_tz": -330
    },
    "id": "sne1pWldNyyI",
    "outputId": "e04c7f99-cb6b-4615-fa8e-a7ccce60b16d"
   },
   "outputs": [
    {
     "data": {
      "text/plain": [
       "2"
      ]
     },
     "execution_count": 9,
     "metadata": {},
     "output_type": "execute_result"
    }
   ],
   "source": [
    "my_dob.weekday()"
   ]
  },
  {
   "cell_type": "markdown",
   "metadata": {
    "id": "ElayoapJOODf"
   },
   "source": [
    "> Q. When will you be (or when were you) 10,000 days old?"
   ]
  },
  {
   "cell_type": "code",
   "execution_count": 10,
   "metadata": {
    "colab": {
     "base_uri": "https://localhost:8080/"
    },
    "executionInfo": {
     "elapsed": 379,
     "status": "ok",
     "timestamp": 1627041490319,
     "user": {
      "displayName": "Yuno Clover",
      "photoUrl": "",
      "userId": "14793961318254159012"
     },
     "user_tz": -330
    },
    "id": "HzFn9wlsOR_v",
    "outputId": "bb5ca2b1-3da6-4852-a46b-db5ff5c7ad69"
   },
   "outputs": [
    {
     "data": {
      "text/plain": [
       "datetime.date(2026, 1, 25)"
      ]
     },
     "execution_count": 10,
     "metadata": {},
     "output_type": "execute_result"
    }
   ],
   "source": [
    "from datetime import timedelta\n",
    "day10000 = my_dob + timedelta(days=10000)\n",
    "day10000"
   ]
  },
  {
   "cell_type": "code",
   "execution_count": null,
   "metadata": {
    "id": "Hk50u6fUObdH"
   },
   "outputs": [],
   "source": []
  },
  {
   "cell_type": "code",
   "execution_count": null,
   "metadata": {},
   "outputs": [],
   "source": []
  }
 ],
 "metadata": {
  "colab": {
   "authorship_tag": "ABX9TyPLIbtwncRvSb+gl4fLV2MA",
   "collapsed_sections": [],
   "name": "Python Basic 21.ipynb",
   "provenance": []
  },
  "kernelspec": {
   "display_name": "Python 3 (ipykernel)",
   "language": "python",
   "name": "python3"
  },
  "language_info": {
   "codemirror_mode": {
    "name": "ipython",
    "version": 3
   },
   "file_extension": ".py",
   "mimetype": "text/x-python",
   "name": "python",
   "nbconvert_exporter": "python",
   "pygments_lexer": "ipython3",
   "version": "3.9.12"
  }
 },
 "nbformat": 4,
 "nbformat_minor": 1
}
