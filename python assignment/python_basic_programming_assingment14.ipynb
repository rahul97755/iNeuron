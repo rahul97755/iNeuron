{
 "cells": [
  {
   "cell_type": "markdown",
   "id": "f941075c",
   "metadata": {},
   "source": [
    "Question 1:\n",
    "Define a class with a generator which can iterate the numbers, which are divisible by\n",
    "7, between a given range 0 and n."
   ]
  },
  {
   "cell_type": "code",
   "execution_count": 2,
   "id": "ea6e19ac",
   "metadata": {},
   "outputs": [],
   "source": [
    "class Iter:\n",
    "    def __init__(self):\n",
    "        pass\n",
    "        \n",
    "    def divid(self,n):\n",
    "        for i in range(0,n):\n",
    "            if i%7==0:\n",
    "                print(i)"
   ]
  },
  {
   "cell_type": "markdown",
   "id": "3cd4bc14",
   "metadata": {},
   "source": [
    "Write a program to compute the frequency of the words from the input. The output\n",
    "should output after sorting the key alphanumerically.\n",
    "Suppose the following input is supplied to the program:\n",
    "New to Python or choosing between Python 2 and Python 3? Read Python 2 or\n",
    "Python 3.\n",
    "Then, the output should be:\n",
    "2:2\n",
    "3.:1\n",
    "3?:1\n",
    "New:1\n",
    "Python:5\n",
    "Read:1\n",
    "and:1\n",
    "between:1\n",
    "choosing:1\n",
    "or:2\n",
    "to:1"
   ]
  },
  {
   "cell_type": "code",
   "execution_count": 7,
   "id": "6d206833",
   "metadata": {},
   "outputs": [
    {
     "name": "stdout",
     "output_type": "stream",
     "text": [
      "Enter the string:python3\n",
      "{'python3': 1}\n",
      "[('python3', 1)]\n"
     ]
    }
   ],
   "source": [
    "d=dict()\n",
    "s=input(\"Enter the string:\")\n",
    "for i in s.split():\n",
    "    d[i]=d.get(i,0)+1\n",
    "    print(d)\n",
    "    print(sorted(d.items()))"
   ]
  },
  {
   "cell_type": "markdown",
   "id": "b91b747c",
   "metadata": {},
   "source": [
    "Question 3:\n",
    "\n",
    "Define a class Person and its two child classes: Male and Female. All classes have a\n",
    "method &quot;getGender&quot; which can print &quot;Male&quot; for Male class and &quot;Female&quot; for Female"
   ]
  },
  {
   "cell_type": "code",
   "execution_count": 18,
   "id": "0573a181",
   "metadata": {},
   "outputs": [],
   "source": [
    "class Person:\n",
    "    class Male:\n",
    "        def getGender(self,Person):\n",
    "            print('this is male class')\n",
    "            \n",
    "    class female:\n",
    "        def getGender(self,Person):\n",
    "            print('this is female class')\n",
    "            \n",
    "            "
   ]
  },
  {
   "cell_type": "code",
   "execution_count": 19,
   "id": "eee49a25",
   "metadata": {},
   "outputs": [],
   "source": [
    "p=Person()"
   ]
  },
  {
   "cell_type": "code",
   "execution_count": 20,
   "id": "2af000f5",
   "metadata": {},
   "outputs": [
    {
     "name": "stdout",
     "output_type": "stream",
     "text": [
      "this is male class\n"
     ]
    }
   ],
   "source": [
    "m=p.Male()\n",
    "m.getGender(p)"
   ]
  },
  {
   "cell_type": "code",
   "execution_count": 21,
   "id": "0634a0ed",
   "metadata": {},
   "outputs": [
    {
     "name": "stdout",
     "output_type": "stream",
     "text": [
      "this is female class\n"
     ]
    }
   ],
   "source": [
    "f=p.female()\n",
    "f.getGender(f)"
   ]
  },
  {
   "cell_type": "markdown",
   "id": "f342f531",
   "metadata": {},
   "source": [
    "Question 4:\n",
    "Please write a program to generate all sentences where subject is in [&quot;I&quot;, &quot;You&quot;] and\n",
    "verb is in [&quot;Play&quot;, &quot;Love&quot;] and the object is in [&quot;Hockey&quot;,&quot;Football&quot;]."
   ]
  },
  {
   "cell_type": "code",
   "execution_count": 22,
   "id": "5d80d03f",
   "metadata": {},
   "outputs": [],
   "source": [
    "def generate_sentences(subjects,verbs,objects):\n",
    "    list=[]\n",
    "    for i in subjects:\n",
    "        for j in verbs:\n",
    "            for k in objects:\n",
    "                list.append(i+\" \"+j+\" \"+k)\n",
    "    return list "
   ]
  },
  {
   "cell_type": "code",
   "execution_count": 23,
   "id": "9308cd9a",
   "metadata": {},
   "outputs": [
    {
     "data": {
      "text/plain": [
       "['I love Hockey',\n",
       " 'I love Football',\n",
       " 'I Play Hockey',\n",
       " 'I Play Football',\n",
       " 'you love Hockey',\n",
       " 'you love Football',\n",
       " 'you Play Hockey',\n",
       " 'you Play Football']"
      ]
     },
     "execution_count": 23,
     "metadata": {},
     "output_type": "execute_result"
    }
   ],
   "source": [
    "generate_sentences(['I','you'],[\"love\",\"Play\"],[\"Hockey\",\"Football\"])"
   ]
  }
 ],
 "metadata": {
  "kernelspec": {
   "display_name": "Python 3 (ipykernel)",
   "language": "python",
   "name": "python3"
  },
  "language_info": {
   "codemirror_mode": {
    "name": "ipython",
    "version": 3
   },
   "file_extension": ".py",
   "mimetype": "text/x-python",
   "name": "python",
   "nbconvert_exporter": "python",
   "pygments_lexer": "ipython3",
   "version": "3.9.12"
  }
 },
 "nbformat": 4,
 "nbformat_minor": 5
}
