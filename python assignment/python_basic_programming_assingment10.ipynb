{
 "cells": [
  {
   "cell_type": "markdown",
   "id": "6d163c64",
   "metadata": {},
   "source": [
    "Write a Python program to find sum of elements in list?"
   ]
  },
  {
   "cell_type": "code",
   "execution_count": 1,
   "id": "5bc92087",
   "metadata": {},
   "outputs": [
    {
     "name": "stdout",
     "output_type": "stream",
     "text": [
      "10\n"
     ]
    }
   ],
   "source": [
    "l=[2,3,3,2]\n",
    "sum=0\n",
    "for i in l:\n",
    "    sum=sum+i\n",
    "print(sum)    "
   ]
  },
  {
   "cell_type": "markdown",
   "id": "11f5d767",
   "metadata": {},
   "source": [
    "Write a Python program to Multiply all numbers in the list?"
   ]
  },
  {
   "cell_type": "code",
   "execution_count": 17,
   "id": "6c7aa1ff",
   "metadata": {},
   "outputs": [
    {
     "name": "stdout",
     "output_type": "stream",
     "text": [
      "36\n"
     ]
    }
   ],
   "source": [
    "l=[2,3,3,2]\n",
    "mul=1\n",
    "for i in l:\n",
    "    mul=mul*i\n",
    "print(mul)  "
   ]
  },
  {
   "cell_type": "markdown",
   "id": "69eafe7c",
   "metadata": {},
   "source": [
    "Write a Python program to find smallest number in a list?"
   ]
  },
  {
   "cell_type": "code",
   "execution_count": 21,
   "id": "6f869bdd",
   "metadata": {},
   "outputs": [
    {
     "name": "stdout",
     "output_type": "stream",
     "text": [
      " the minimum from [1, 2, 2, 3, 4] list is 1\n"
     ]
    }
   ],
   "source": [
    "l=[2,4,3,2,1]\n",
    "l.sort()\n",
    "print(f' the minimum from {l} list is {l[0]}')"
   ]
  },
  {
   "cell_type": "markdown",
   "id": "baee9189",
   "metadata": {},
   "source": [
    "Write a Python program to find largest number in a list?"
   ]
  },
  {
   "cell_type": "code",
   "execution_count": 20,
   "id": "a5d31dac",
   "metadata": {},
   "outputs": [
    {
     "name": "stdout",
     "output_type": "stream",
     "text": [
      " the maximum from [4, 3, 2, 2, 1] list is 4\n"
     ]
    }
   ],
   "source": [
    "l=[2,4,3,2,1]\n",
    "l.sort(reverse=True)\n",
    "print(f' the maximum from {l} list is {l[0]}')"
   ]
  },
  {
   "cell_type": "markdown",
   "id": "4967da3c",
   "metadata": {},
   "source": [
    "Write a Python program to find second largest number in a list?"
   ]
  },
  {
   "cell_type": "code",
   "execution_count": 23,
   "id": "7e0c1515",
   "metadata": {},
   "outputs": [
    {
     "name": "stdout",
     "output_type": "stream",
     "text": [
      " the second largest from [4, 3, 2, 2, 1] list is 3\n"
     ]
    }
   ],
   "source": [
    "l=[2,4,3,2,1]\n",
    "l.sort(reverse=True)\n",
    "print(f' the second largest from {l} list is {l[1]}')"
   ]
  },
  {
   "cell_type": "code",
   "execution_count": 24,
   "id": "9a37ca27",
   "metadata": {},
   "outputs": [
    {
     "data": {
      "text/plain": [
       "5"
      ]
     },
     "execution_count": 24,
     "metadata": {},
     "output_type": "execute_result"
    }
   ],
   "source": [
    "l=[2,4,3,2,1]\n",
    "len(l)"
   ]
  },
  {
   "cell_type": "markdown",
   "id": "9199b0fc",
   "metadata": {},
   "source": [
    "Write a Python program to find N largest elements from a list?"
   ]
  },
  {
   "cell_type": "code",
   "execution_count": 26,
   "id": "2bc5f40f",
   "metadata": {},
   "outputs": [],
   "source": [
    "def n_largest(l):\n",
    "    l.sort(reverse=True)\n",
    "    n=int(input('input the n largest'))\n",
    "    if n<=len(l):\n",
    "          print(f'The {n}th largest number is {l[n-1]}')\n",
    "    else:\n",
    "         print(f'The {n}th  is out of range') \n",
    "          \n",
    "    "
   ]
  },
  {
   "cell_type": "code",
   "execution_count": 32,
   "id": "bfc74632",
   "metadata": {},
   "outputs": [
    {
     "name": "stdout",
     "output_type": "stream",
     "text": [
      "input the n largest3\n",
      "The 3th largest number is 42\n"
     ]
    }
   ],
   "source": [
    "l=[21,42,33,25,16,78,54]\n",
    "n_largest(l)"
   ]
  },
  {
   "cell_type": "markdown",
   "id": "9c2ef5c5",
   "metadata": {},
   "source": [
    "Write a Python program to print even numbers in a list?"
   ]
  },
  {
   "cell_type": "code",
   "execution_count": 51,
   "id": "3b1046d4",
   "metadata": {},
   "outputs": [
    {
     "name": "stdout",
     "output_type": "stream",
     "text": [
      "The sum of even number is 4\n"
     ]
    }
   ],
   "source": [
    "l=[2,5,2,3,5,9]\n",
    "summ=0\n",
    "l1=[]\n",
    "for i in l:\n",
    "    if i%2==0:\n",
    "        l1.append(i)\n",
    "    \n",
    "for j in l1:\n",
    "    summ=summ+j\n",
    "            \n",
    "print(f'The sum of even number is {summ}')  "
   ]
  },
  {
   "cell_type": "markdown",
   "id": "8129e66a",
   "metadata": {},
   "source": [
    "Write a Python program to print odd numbers in a List?"
   ]
  },
  {
   "cell_type": "code",
   "execution_count": 53,
   "id": "bfe51a04",
   "metadata": {},
   "outputs": [
    {
     "name": "stdout",
     "output_type": "stream",
     "text": [
      "The sum of odd number is 22\n"
     ]
    }
   ],
   "source": [
    "l=[2,5,2,3,5,9]\n",
    "summ=0\n",
    "l1=[]\n",
    "for i in l:\n",
    "    if i%2!=0:\n",
    "        l1.append(i)\n",
    "    \n",
    "for j in l1:\n",
    "    summ=summ+j\n",
    "            \n",
    "print(f'The sum of odd number is {summ}')  "
   ]
  },
  {
   "cell_type": "markdown",
   "id": "0e456a82",
   "metadata": {},
   "source": [
    "Write a Python program to Remove empty List from List?"
   ]
  },
  {
   "cell_type": "code",
   "execution_count": 54,
   "id": "68d8b1cc",
   "metadata": {},
   "outputs": [],
   "source": [
    "def empty_list_remove(input_list):\n",
    "    new_list = []\n",
    "    for ele in input_list:\n",
    "        if ele:\n",
    "            new_list.append(ele)\n",
    "    return new_list"
   ]
  },
  {
   "cell_type": "code",
   "execution_count": 55,
   "id": "0e1d3cb5",
   "metadata": {},
   "outputs": [
    {
     "data": {
      "text/plain": [
       "[12, 23, 'sdd']"
      ]
     },
     "execution_count": 55,
     "metadata": {},
     "output_type": "execute_result"
    }
   ],
   "source": [
    "empty_list_remove([12,23,'','sdd'])"
   ]
  },
  {
   "cell_type": "markdown",
   "id": "9691ceeb",
   "metadata": {},
   "source": [
    "Write a Python program to Cloning or Copying a list?"
   ]
  },
  {
   "cell_type": "code",
   "execution_count": 57,
   "id": "a53e5248",
   "metadata": {},
   "outputs": [
    {
     "data": {
      "text/plain": [
       "[2, 5, 2, 3, 5, 9]"
      ]
     },
     "execution_count": 57,
     "metadata": {},
     "output_type": "execute_result"
    }
   ],
   "source": [
    "l1=l.copy()\n",
    "l1"
   ]
  },
  {
   "cell_type": "markdown",
   "id": "7965731c",
   "metadata": {},
   "source": [
    "Write a Python program to Count occurrences of an element in a list?"
   ]
  },
  {
   "cell_type": "code",
   "execution_count": 59,
   "id": "821df3cb",
   "metadata": {},
   "outputs": [],
   "source": [
    "def countX(lst, x):\n",
    "    count = 0\n",
    "    for ele in lst:\n",
    "        if (ele == x):\n",
    "            count = count + 1\n",
    "    return count"
   ]
  },
  {
   "cell_type": "code",
   "execution_count": 60,
   "id": "4a464953",
   "metadata": {},
   "outputs": [
    {
     "data": {
      "text/plain": [
       "2"
      ]
     },
     "execution_count": 60,
     "metadata": {},
     "output_type": "execute_result"
    }
   ],
   "source": [
    "countX(l,2)"
   ]
  }
 ],
 "metadata": {
  "kernelspec": {
   "display_name": "Python 3 (ipykernel)",
   "language": "python",
   "name": "python3"
  },
  "language_info": {
   "codemirror_mode": {
    "name": "ipython",
    "version": 3
   },
   "file_extension": ".py",
   "mimetype": "text/x-python",
   "name": "python",
   "nbconvert_exporter": "python",
   "pygments_lexer": "ipython3",
   "version": "3.10.8"
  }
 },
 "nbformat": 4,
 "nbformat_minor": 5
}
