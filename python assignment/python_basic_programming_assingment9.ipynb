{
 "cells": [
  {
   "cell_type": "markdown",
   "id": "7a7d444c",
   "metadata": {},
   "source": [
    "Write a Python program to check if the given number is a Disarium Number?"
   ]
  },
  {
   "cell_type": "code",
   "execution_count": 63,
   "id": "65b57daf",
   "metadata": {},
   "outputs": [],
   "source": [
    "def disarium():\n",
    "    try:\n",
    "        a= int(input('Please enter number:'))\n",
    "        temp=a\n",
    "       \n",
    "        count=0\n",
    "        x=a\n",
    "        while  temp>0:\n",
    "            temp=temp//10\n",
    "            count=count+1\n",
    "        sum=0\n",
    "        \n",
    "        while x>0:\n",
    "            rem=x%10\n",
    "            sum=sum+(rem**count)\n",
    "            x=x//10\n",
    "            count=count-1\n",
    "        if sum==a:\n",
    "            print(f'{a} is a disarium number')\n",
    "        else:\n",
    "            print(f'{a} is not a disarium number')\n",
    "                \n",
    "    except Exception as e :\n",
    "        print(f'The exception error is : {e} ')\n",
    "        print('Please enter an integer')   \n",
    "        "
   ]
  },
  {
   "cell_type": "code",
   "execution_count": 65,
   "id": "01fdcc6d",
   "metadata": {},
   "outputs": [
    {
     "name": "stdout",
     "output_type": "stream",
     "text": [
      "Please enter number:89\n",
      "89 is a disarium number\n"
     ]
    }
   ],
   "source": [
    "disarium()"
   ]
  },
  {
   "cell_type": "markdown",
   "id": "78ae9a7a",
   "metadata": {},
   "source": [
    "Write a Python program to print all disarium numbers between 1 to 100?"
   ]
  },
  {
   "cell_type": "code",
   "execution_count": 68,
   "id": "ee69e085",
   "metadata": {},
   "outputs": [],
   "source": [
    "def disarium1():\n",
    "    try:\n",
    "        for i in range (1,100+1):\n",
    "            temp=i\n",
    "            count=0\n",
    "            x=i\n",
    "        \n",
    "            while  temp>0:\n",
    "                temp=temp//10\n",
    "                count=count+1\n",
    "                sum=0\n",
    "        \n",
    "            while x>0:\n",
    "                rem=x%10\n",
    "                sum=sum+(rem**count)\n",
    "                x=x//10\n",
    "                count=count-1\n",
    "            if sum==i:\n",
    "                print(f'{i} is a disarium number between 1 and 100')\n",
    "            \n",
    "                \n",
    "    except Exception as e :\n",
    "        print(f'The exception error is : {e} ')\n",
    "        print('Please enter an integer')   \n",
    "        "
   ]
  },
  {
   "cell_type": "code",
   "execution_count": 69,
   "id": "95fc88b8",
   "metadata": {},
   "outputs": [
    {
     "name": "stdout",
     "output_type": "stream",
     "text": [
      "1 is a disarium number between 1 and 100\n",
      "2 is a disarium number between 1 and 100\n",
      "3 is a disarium number between 1 and 100\n",
      "4 is a disarium number between 1 and 100\n",
      "5 is a disarium number between 1 and 100\n",
      "6 is a disarium number between 1 and 100\n",
      "7 is a disarium number between 1 and 100\n",
      "8 is a disarium number between 1 and 100\n",
      "9 is a disarium number between 1 and 100\n",
      "89 is a disarium number between 1 and 100\n"
     ]
    }
   ],
   "source": [
    "disarium1()"
   ]
  },
  {
   "cell_type": "markdown",
   "id": "188685d7",
   "metadata": {},
   "source": [
    "Write a Python program to check if the given number is Happy Number?"
   ]
  },
  {
   "cell_type": "code",
   "execution_count": 5,
   "id": "a49e6bff",
   "metadata": {},
   "outputs": [
    {
     "name": "stdout",
     "output_type": "stream",
     "text": [
      "Enter a number: 100\n",
      "100  is a Happy Number!!!\n"
     ]
    }
   ],
   "source": [
    "def isHappyNumber(n):    \n",
    "    digit = sum = 0    \n",
    "    while(n > 0):    \n",
    "        digit = n % 10 \n",
    "        sum = sum + (digit * digit)    \n",
    "        n = n // 10   \n",
    "    return sum    \n",
    "        \n",
    "num = int(input(\"Enter a number: \"))    \n",
    "result = num    \n",
    "     \n",
    "while(result != 1 and result != 4):    \n",
    "    result = isHappyNumber(result)   \n",
    "     \n",
    "if(result == 1):    \n",
    "    print(num, \" is a Happy Number!!!\")   \n",
    "else:    \n",
    "    print(num, \" is an Unhappy Number!!!\")"
   ]
  },
  {
   "cell_type": "code",
   "execution_count": 4,
   "id": "326f5bc0",
   "metadata": {},
   "outputs": [
    {
     "name": "stdout",
     "output_type": "stream",
     "text": [
      "Please enter number:100\n"
     ]
    }
   ],
   "source": [
    "isHappyNumber()"
   ]
  },
  {
   "cell_type": "markdown",
   "id": "a6285e27",
   "metadata": {},
   "source": [
    "Write a Python program to print all happy numbers between 1 and 100?"
   ]
  },
  {
   "cell_type": "code",
   "execution_count": 6,
   "id": "2df2b9c4",
   "metadata": {},
   "outputs": [
    {
     "name": "stdout",
     "output_type": "stream",
     "text": [
      "ENTER LOWEST VALUE : 10\n",
      "ENTER HIGHEST VALUE : 100\n",
      "HAPPY NUMBERS WITHIN RANGE(10,100) ARE -\n",
      "10 13 19 23 28 31 32 44 49 68 70 79 82 86 91 94 97 100 "
     ]
    }
   ],
   "source": [
    "def check_happy(number):\n",
    "  remainder = 0\n",
    "  happy_num = 0;    \n",
    "  while(number > 0):    \n",
    "    remainder = number%10;    \n",
    "    happy_num = happy_num + (remainder*remainder);    \n",
    "    number = number//10;\n",
    "  return happy_num;\n",
    "lower = int(input(\"ENTER LOWEST VALUE : \"))\n",
    "upper = int(input(\"ENTER HIGHEST VALUE : \"))\n",
    "print(\"HAPPY NUMBERS WITHIN RANGE({},{}) ARE -\".format(lower,upper))\n",
    "for i in range(lower,upper+1):\n",
    "  happy_num = i\n",
    "  while(happy_num != 1 and happy_num != 4):\n",
    "    happy_num = check_happy(happy_num)\n",
    "  if(happy_num == 1):\n",
    "    print(i,end=\" \")"
   ]
  },
  {
   "cell_type": "markdown",
   "id": "b771c24b",
   "metadata": {},
   "source": [
    "Write a Python program to determine whether the given number is a Harshad Number?"
   ]
  },
  {
   "cell_type": "code",
   "execution_count": 7,
   "id": "964dd0cd",
   "metadata": {},
   "outputs": [],
   "source": [
    "def harshad():\n",
    "    number = int(input('Enter number: '))\n",
    "    copy = number\n",
    "    digit_sum = 0\n",
    "\n",
    "    while number:\n",
    "        digit_sum += number%10\n",
    "        number //= 10\n",
    "\n",
    "    if copy%digit_sum == 0:\n",
    "        print('%d is Harshad Number' % (copy))\n",
    "    else:\n",
    "        print('%d is Not Harshad Number' % (copy))"
   ]
  },
  {
   "cell_type": "code",
   "execution_count": 10,
   "id": "795dc171",
   "metadata": {},
   "outputs": [
    {
     "name": "stdout",
     "output_type": "stream",
     "text": [
      "Enter number: 153\n",
      "153 is Harshad Number\n"
     ]
    }
   ],
   "source": [
    "harshad()"
   ]
  },
  {
   "cell_type": "markdown",
   "id": "5452f4c1",
   "metadata": {},
   "source": [
    "Write a Python program to print all pronic numbers between 1 and 100?"
   ]
  },
  {
   "cell_type": "code",
   "execution_count": 12,
   "id": "27622711",
   "metadata": {},
   "outputs": [
    {
     "name": "stdout",
     "output_type": "stream",
     "text": [
      "Enter a number: 20\n",
      "Pronic number\n"
     ]
    }
   ],
   "source": [
    "n = int(input(\"Enter a number: \"))\n",
    "f = 0\n",
    "for i in range(n):\n",
    "    if i * (i + 1) == n:\n",
    "        f = 1\n",
    "        break\n",
    "if f==1:\n",
    "    print(\"Pronic number\")\n",
    "else:\n",
    "    print(\"Not a Pronic number\")"
   ]
  }
 ],
 "metadata": {
  "kernelspec": {
   "display_name": "Python 3 (ipykernel)",
   "language": "python",
   "name": "python3"
  },
  "language_info": {
   "codemirror_mode": {
    "name": "ipython",
    "version": 3
   },
   "file_extension": ".py",
   "mimetype": "text/x-python",
   "name": "python",
   "nbconvert_exporter": "python",
   "pygments_lexer": "ipython3",
   "version": "3.10.8"
  }
 },
 "nbformat": 4,
 "nbformat_minor": 5
}
