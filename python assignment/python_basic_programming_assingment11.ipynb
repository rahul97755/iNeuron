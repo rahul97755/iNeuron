{
 "cells": [
  {
   "cell_type": "markdown",
   "id": "c3e092a7",
   "metadata": {},
   "source": [
    "Write a Python program to find words which are greater than given length k?"
   ]
  },
  {
   "cell_type": "code",
   "execution_count": 5,
   "id": "fbff5234",
   "metadata": {},
   "outputs": [],
   "source": [
    "def word_k(k, s):    \n",
    "    word = s.split(\" \")\n",
    "    for x in word:\n",
    "        if len(x)>k:\n",
    "            print(x)\n"
   ]
  },
  {
   "cell_type": "code",
   "execution_count": 9,
   "id": "c515eefe",
   "metadata": {},
   "outputs": [
    {
     "name": "stdout",
     "output_type": "stream",
     "text": [
      "Argentina\n",
      "FIFA\n",
      "world\n",
      "2022\n"
     ]
    }
   ],
   "source": [
    "k = 3\n",
    "s =\"Argentina won the FIFA world cup 2022\"\n",
    "word_k(k, s)"
   ]
  },
  {
   "cell_type": "markdown",
   "id": "3e7ebaf3",
   "metadata": {},
   "source": [
    "Write a Python program for removing i-th character from a string?"
   ]
  },
  {
   "cell_type": "code",
   "execution_count": 11,
   "id": "2cc64325",
   "metadata": {},
   "outputs": [
    {
     "name": "stdout",
     "output_type": "stream",
     "text": [
      "original:  INeuron\n",
      "After removing:  INuron\n"
     ]
    }
   ],
   "source": [
    "string=\"INeuron\"\n",
    "i=3\n",
    "print(\"original: \",string)\n",
    "\n",
    "new_s= string.replace(string[i-1],\"\")\n",
    "\n",
    "print(\"After removing: \",new_s) "
   ]
  },
  {
   "cell_type": "markdown",
   "id": "186d3f7e",
   "metadata": {},
   "source": [
    "Write a Python program to split and join a string?"
   ]
  },
  {
   "cell_type": "code",
   "execution_count": 22,
   "id": "b2e5ae63",
   "metadata": {},
   "outputs": [
    {
     "name": "stdout",
     "output_type": "stream",
     "text": [
      "The join string is Messi\n",
      "The split string ['Lionel', 'Messi']\n"
     ]
    }
   ],
   "source": [
    "s1='Lionel'\n",
    "s2='Messi'\n",
    "s3=s1+\" \"+s2\n",
    "print(f'The join string is {s2}')\n",
    "s4=s3.split()\n",
    "print(f'The split string {s4}')"
   ]
  },
  {
   "cell_type": "markdown",
   "id": "e2e20eb4",
   "metadata": {},
   "source": [
    "Write a Python to check if a given string is binary string or not?"
   ]
  },
  {
   "cell_type": "code",
   "execution_count": 23,
   "id": "1c28f2cf",
   "metadata": {},
   "outputs": [],
   "source": [
    "def check(string) :\n",
    "    b = set(string)\n",
    "    s = {'0', '1'}\n",
    "    if s == b or b == {'0'} or b == {'1'}:\n",
    "        print(\"Binary String\")\n",
    "    else :\n",
    "        print(\"Non Binary String\")\n",
    "  \n"
   ]
  },
  {
   "cell_type": "code",
   "execution_count": 24,
   "id": "556d1049",
   "metadata": {},
   "outputs": [
    {
     "name": "stdout",
     "output_type": "stream",
     "text": [
      "Binary String\n",
      "Non Binary String\n"
     ]
    }
   ],
   "source": [
    "s1= \"00110101\"\n",
    "# function calling\n",
    "check(s1)\n",
    "s2 = \"1010100200111\"\n",
    "check(s2)"
   ]
  },
  {
   "cell_type": "markdown",
   "id": "92118ad0",
   "metadata": {},
   "source": [
    "Write a Python program to find uncommon words from two Strings?"
   ]
  },
  {
   "cell_type": "code",
   "execution_count": 27,
   "id": "eb6cfabd",
   "metadata": {},
   "outputs": [],
   "source": [
    "def uncommon(s1,s2):\n",
    "  s1=s1.split()\n",
    "  s2=s2.split()\n",
    "  k=set(s1).symmetric_difference(set(s2))\n",
    "  return k\n",
    "\n"
   ]
  },
  {
   "cell_type": "code",
   "execution_count": 29,
   "id": "80d421ae",
   "metadata": {},
   "outputs": [
    {
     "name": "stdout",
     "output_type": "stream",
     "text": [
      "['JAVA', 'PYTHON']\n"
     ]
    }
   ],
   "source": [
    "a = \"C C++ JAVA\"\n",
    "b = \"PYTHON C C++\"\n",
    "print(list(uncommon(a,b)))"
   ]
  },
  {
   "cell_type": "markdown",
   "id": "e2b57c94",
   "metadata": {},
   "source": [
    "Write a Python to find all duplicate characters in string?"
   ]
  },
  {
   "cell_type": "code",
   "execution_count": 42,
   "id": "d195d485",
   "metadata": {},
   "outputs": [
    {
     "name": "stdout",
     "output_type": "stream",
     "text": [
      "alssd\n",
      "The duplicate characters are ['s']\n"
     ]
    }
   ],
   "source": [
    "string = input()\n",
    "dups=[]\n",
    "for ch in string:\n",
    "  if string.count(ch)>1 and ch not in dups:\n",
    "    dups.append(ch)\n",
    "print('The duplicate characters are {}'.format(dups))"
   ]
  },
  {
   "cell_type": "markdown",
   "id": "b8e810d7",
   "metadata": {},
   "source": [
    "Write a Python Program to check if a string contains any special character?"
   ]
  },
  {
   "cell_type": "code",
   "execution_count": 52,
   "id": "2019c9bf",
   "metadata": {},
   "outputs": [
    {
     "name": "stdout",
     "output_type": "stream",
     "text": [
      "Text has special characters.\n"
     ]
    }
   ],
   "source": [
    "text = 'This is my text with special character (👽)'\n",
    "\n",
    "from string import printable\n",
    "\n",
    "if set(text).difference(printable):\n",
    "    print('Text has special characters.')\n",
    "else:\n",
    "    print(\"Text hasn't special characters.\")"
   ]
  }
 ],
 "metadata": {
  "kernelspec": {
   "display_name": "Python 3 (ipykernel)",
   "language": "python",
   "name": "python3"
  },
  "language_info": {
   "codemirror_mode": {
    "name": "ipython",
    "version": 3
   },
   "file_extension": ".py",
   "mimetype": "text/x-python",
   "name": "python",
   "nbconvert_exporter": "python",
   "pygments_lexer": "ipython3",
   "version": "3.10.8"
  }
 },
 "nbformat": 4,
 "nbformat_minor": 5
}
