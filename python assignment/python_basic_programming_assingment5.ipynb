{
 "cells": [
  {
   "cell_type": "markdown",
   "id": "b0862509",
   "metadata": {},
   "source": [
    "1. Write a Python Program to Find LCM?"
   ]
  },
  {
   "cell_type": "code",
   "execution_count": 17,
   "id": "f1774457",
   "metadata": {},
   "outputs": [],
   "source": [
    "def lcm():\n",
    "    try:\n",
    "        a= int(input('Please enter number 1:'))\n",
    "        b= int(input('Please enter number 2:'))\n",
    "        \n",
    "        if(a>b):\n",
    "            min1=a\n",
    "        else:\n",
    "                min1=b\n",
    "        while(1):\n",
    "            if(min1%a==0 and min1%b==0):\n",
    "                print(\"LCM is:\",min1)\n",
    "                break\n",
    "            min1=min1+1\n",
    "            \n",
    "            \n",
    "    except Exception as e :\n",
    "        print(f'The exception error is : {e} ')\n",
    "        print('Please enter an integer')   \n",
    "        "
   ]
  },
  {
   "cell_type": "code",
   "execution_count": 18,
   "id": "dbf9b1a7",
   "metadata": {},
   "outputs": [
    {
     "name": "stdout",
     "output_type": "stream",
     "text": [
      "Please enter number 1:2\n",
      "Please enter number 2:4\n",
      "LCM is: 4\n"
     ]
    }
   ],
   "source": [
    "lcm()"
   ]
  },
  {
   "cell_type": "markdown",
   "id": "c1aa346e",
   "metadata": {},
   "source": [
    "2. Write a Python Program to Find HCF?"
   ]
  },
  {
   "cell_type": "code",
   "execution_count": 19,
   "id": "4b0e04db",
   "metadata": {},
   "outputs": [],
   "source": [
    "def hcf():\n",
    "    try:\n",
    "        num1= int(input('Please enter number 1:'))\n",
    "        num2= int(input('Please enter number 2:'))\n",
    "        \n",
    "        for i in range(1, min(num1, num2)):\n",
    "            if num1 % i == 0 and num2 % i == 0:\n",
    "                hcf = i\n",
    "        print(\"Hcf of\", num1, \"and\", num2, \"is\", hcf)\n",
    "            \n",
    "    except Exception as e :\n",
    "        print(f'The exception error is : {e} ')\n",
    "        print('Please enter an integer')   \n",
    "        "
   ]
  },
  {
   "cell_type": "code",
   "execution_count": 20,
   "id": "2fff7e33",
   "metadata": {},
   "outputs": [
    {
     "name": "stdout",
     "output_type": "stream",
     "text": [
      "Please enter number 1:12\n",
      "Please enter number 2:24\n",
      "Hcf of 12 and 24 is 6\n"
     ]
    }
   ],
   "source": [
    "hcf()"
   ]
  },
  {
   "cell_type": "markdown",
   "id": "7e579457",
   "metadata": {},
   "source": [
    "3. Write a Python Program to Convert Decimal to Binary, Octal and Hexadecimal?"
   ]
  },
  {
   "cell_type": "code",
   "execution_count": 21,
   "id": "3b7d5ebf",
   "metadata": {},
   "outputs": [
    {
     "name": "stdout",
     "output_type": "stream",
     "text": [
      "The decimal value of 344 is:\n",
      "0b101011000 in binary.\n",
      "0o530 in octal.\n",
      "0x158 in hexadecimal.\n"
     ]
    }
   ],
   "source": [
    "# Python program to convert decimal into other number systems\n",
    "dec = 344\n",
    "\n",
    "print(\"The decimal value of\", dec, \"is:\")\n",
    "print(bin(dec), \"in binary.\")\n",
    "print(oct(dec), \"in octal.\")\n",
    "print(hex(dec), \"in hexadecimal.\")"
   ]
  },
  {
   "cell_type": "markdown",
   "id": "93156208",
   "metadata": {},
   "source": [
    "4. Write a Python Program To Find ASCII value of a character?"
   ]
  },
  {
   "cell_type": "code",
   "execution_count": 25,
   "id": "cf170865",
   "metadata": {},
   "outputs": [],
   "source": [
    "def ascii(c):\n",
    "    c = 'p'\n",
    "    return print(\"The ASCII value of '\" + c + \"' is\", ord(c))\n",
    "    "
   ]
  },
  {
   "cell_type": "code",
   "execution_count": 26,
   "id": "d04875f6",
   "metadata": {},
   "outputs": [
    {
     "name": "stdout",
     "output_type": "stream",
     "text": [
      "The ASCII value of 'p' is 112\n"
     ]
    }
   ],
   "source": [
    "ascii('p')"
   ]
  },
  {
   "cell_type": "markdown",
   "id": "12eb16ad",
   "metadata": {},
   "source": [
    "5. Write a Python Program to Make a Simple Calculator with 4 basic mathematical operations?"
   ]
  },
  {
   "cell_type": "code",
   "execution_count": 48,
   "id": "05be62f2",
   "metadata": {},
   "outputs": [],
   "source": [
    "class calculator():\n",
    "    \n",
    "    def __init__(self):\n",
    "        self.a=a\n",
    "        self.b=b\n",
    "    \n",
    "    def sum(self,a,b):\n",
    "        return a+b\n",
    "    \n",
    "    def sub(self,a,b):\n",
    "        return a-b\n",
    "    \n",
    "    def mul(self,a,b):\n",
    "        return a*b\n",
    "    \n",
    "    def div(self,a,b):\n",
    "        return a/b"
   ]
  },
  {
   "cell_type": "code",
   "execution_count": 49,
   "id": "d33c5b42",
   "metadata": {},
   "outputs": [],
   "source": [
    "cal=calculator()"
   ]
  },
  {
   "cell_type": "code",
   "execution_count": 53,
   "id": "b91dfcc3",
   "metadata": {},
   "outputs": [
    {
     "data": {
      "text/plain": [
       "24"
      ]
     },
     "execution_count": 53,
     "metadata": {},
     "output_type": "execute_result"
    }
   ],
   "source": [
    "cal.mul(12,2)"
   ]
  }
 ],
 "metadata": {
  "kernelspec": {
   "display_name": "Python 3 (ipykernel)",
   "language": "python",
   "name": "python3"
  },
  "language_info": {
   "codemirror_mode": {
    "name": "ipython",
    "version": 3
   },
   "file_extension": ".py",
   "mimetype": "text/x-python",
   "name": "python",
   "nbconvert_exporter": "python",
   "pygments_lexer": "ipython3",
   "version": "3.9.12"
  }
 },
 "nbformat": 4,
 "nbformat_minor": 5
}
