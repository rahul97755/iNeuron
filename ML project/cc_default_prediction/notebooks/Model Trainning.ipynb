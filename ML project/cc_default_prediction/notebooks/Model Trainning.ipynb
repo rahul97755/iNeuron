{
 "cells": [
  {
   "attachments": {},
   "cell_type": "markdown",
   "metadata": {},
   "source": [
    "## Credit Card Default Prediction"
   ]
  },
  {
   "attachments": {},
   "cell_type": "markdown",
   "metadata": {},
   "source": [
    "### Introduction About the Data :\n",
    "\n",
    "**The dataset** The goal is to predict `probability of default ` of given credit card dataset.\n",
    "\n",
    "\n",
    "\n",
    "* LIMIT_BAL: Amount of given credit in NT dollars (includes individual and family/supplementary credit\n",
    "* SEX: Gender (1=male, 2=female)\n",
    "* EDUCATION: (1=graduate school, 2=university, 3=high school, 4=others, 5=unknown, 6=unknown)\n",
    "* MARRIAGE: Marital status (1=married, 2=single, 3=others)\n",
    "* AGE: Age in years\n",
    "* PAY_0: Repayment status in September, 2005 (-1=pay duly, 1=payment delay for one month, 2=payment delay for two months, … 8=payment delay for eight months, 9=payment delay for   nine months and above)\n",
    "* PAY_2: Repayment status in August, 2005 (scale same as above)\n",
    "* PAY_3: Repayment status in July, 2005 (scale same as above)\n",
    "* PAY_4: Repayment status in June, 2005 (scale same as above)\n",
    "* PAY_5: Repayment status in May, 2005 (scale same as above)\n",
    "* PAY_6: Repayment status in April, 2005 (scale same as above)\n",
    "* BILL_AMT1: Amount of bill statement in September, 2005 (NT dollar)\n",
    "* BILL_AMT2: Amount of bill statement in August, 2005 (NT dollar)\n",
    "* BILL_AMT3: Amount of bill statement in July, 2005 (NT dollar)\n",
    "* BILL_AMT4: Amount of bill statement in June, 2005 (NT dollar)\n",
    "* BILL_AMT5: Amount of bill statement in May, 2005 (NT dollar)\n",
    "* BILL_AMT6: Amount of bill statement in April, 2005 (NT dollar)\n",
    "* PAY_AMT1: Amount of previous payment in September, 2005 (NT dollar)\n",
    "* PAY_AMT2: Amount of previous payment in August, 2005 (NT dollar)\n",
    "* PAY_AMT3: Amount of previous payment in July, 2005 (NT dollar)\n",
    "* PAY_AMT4: Amount of previous payment in June, 2005 (NT dollar)\n",
    "* PAY_AMT5: Amount of previous payment in May, 2005 (NT dollar)\n",
    "* PAY_AMT6: Amount of previous payment in April, 2005 (NT dollar)\n",
    "\n",
    "* target.payment.next.month: Default payment (1=yes, 0=no)\n"
   ]
  },
  {
   "cell_type": "code",
   "execution_count": 26,
   "metadata": {},
   "outputs": [],
   "source": [
    "import pandas as pd\n",
    "\n",
    "from datetime import datetime\n",
    "import time\n",
    "import sys\n",
    "import src.utils\n",
    "from src.utils import *\n",
    "from src.utils1 import *\n",
    "import logging\n",
    "from sklearn.metrics import confusion_matrix, ConfusionMatrixDisplay\n",
    "from sklearn import metrics\n",
    "from sklearn.metrics import (confusion_matrix, precision_recall_curve, auc, roc_curve, recall_score, \n",
    "                             classification_report, f1_score, average_precision_score, precision_recall_fscore_support,\n",
    "                            ConfusionMatrixDisplay)\n",
    "import warnings\n",
    "warnings.filterwarnings('ignore')\n"
   ]
  },
  {
   "cell_type": "code",
   "execution_count": 2,
   "metadata": {},
   "outputs": [],
   "source": [
    "## Data Ingestions step\n",
    "df=pd.read_csv('data/UCI_Credit_Card.csv')\n"
   ]
  },
  {
   "cell_type": "code",
   "execution_count": 3,
   "metadata": {},
   "outputs": [
    {
     "data": {
      "text/html": [
       "<div>\n",
       "<style scoped>\n",
       "    .dataframe tbody tr th:only-of-type {\n",
       "        vertical-align: middle;\n",
       "    }\n",
       "\n",
       "    .dataframe tbody tr th {\n",
       "        vertical-align: top;\n",
       "    }\n",
       "\n",
       "    .dataframe thead th {\n",
       "        text-align: right;\n",
       "    }\n",
       "</style>\n",
       "<table border=\"1\" class=\"dataframe\">\n",
       "  <thead>\n",
       "    <tr style=\"text-align: right;\">\n",
       "      <th></th>\n",
       "      <th>LIMIT_BAL</th>\n",
       "      <th>SEX</th>\n",
       "      <th>EDUCATION</th>\n",
       "      <th>MARRIAGE</th>\n",
       "      <th>AGE</th>\n",
       "      <th>PAY_0</th>\n",
       "      <th>PAY_2</th>\n",
       "      <th>PAY_3</th>\n",
       "      <th>PAY_4</th>\n",
       "      <th>PAY_5</th>\n",
       "      <th>...</th>\n",
       "      <th>BILL_AMT4</th>\n",
       "      <th>BILL_AMT5</th>\n",
       "      <th>BILL_AMT6</th>\n",
       "      <th>PAY_AMT1</th>\n",
       "      <th>PAY_AMT2</th>\n",
       "      <th>PAY_AMT3</th>\n",
       "      <th>PAY_AMT4</th>\n",
       "      <th>PAY_AMT5</th>\n",
       "      <th>PAY_AMT6</th>\n",
       "      <th>target</th>\n",
       "    </tr>\n",
       "  </thead>\n",
       "  <tbody>\n",
       "    <tr>\n",
       "      <th>0</th>\n",
       "      <td>20000.0</td>\n",
       "      <td>2</td>\n",
       "      <td>2</td>\n",
       "      <td>1</td>\n",
       "      <td>24</td>\n",
       "      <td>2</td>\n",
       "      <td>2</td>\n",
       "      <td>-1</td>\n",
       "      <td>-1</td>\n",
       "      <td>-2</td>\n",
       "      <td>...</td>\n",
       "      <td>0.0</td>\n",
       "      <td>0.0</td>\n",
       "      <td>0.0</td>\n",
       "      <td>0.0</td>\n",
       "      <td>689.0</td>\n",
       "      <td>0.0</td>\n",
       "      <td>0.0</td>\n",
       "      <td>0.0</td>\n",
       "      <td>0.0</td>\n",
       "      <td>1</td>\n",
       "    </tr>\n",
       "    <tr>\n",
       "      <th>1</th>\n",
       "      <td>120000.0</td>\n",
       "      <td>2</td>\n",
       "      <td>2</td>\n",
       "      <td>2</td>\n",
       "      <td>26</td>\n",
       "      <td>-1</td>\n",
       "      <td>2</td>\n",
       "      <td>0</td>\n",
       "      <td>0</td>\n",
       "      <td>0</td>\n",
       "      <td>...</td>\n",
       "      <td>3272.0</td>\n",
       "      <td>3455.0</td>\n",
       "      <td>3261.0</td>\n",
       "      <td>0.0</td>\n",
       "      <td>1000.0</td>\n",
       "      <td>1000.0</td>\n",
       "      <td>1000.0</td>\n",
       "      <td>0.0</td>\n",
       "      <td>2000.0</td>\n",
       "      <td>1</td>\n",
       "    </tr>\n",
       "    <tr>\n",
       "      <th>2</th>\n",
       "      <td>90000.0</td>\n",
       "      <td>2</td>\n",
       "      <td>2</td>\n",
       "      <td>2</td>\n",
       "      <td>34</td>\n",
       "      <td>0</td>\n",
       "      <td>0</td>\n",
       "      <td>0</td>\n",
       "      <td>0</td>\n",
       "      <td>0</td>\n",
       "      <td>...</td>\n",
       "      <td>14331.0</td>\n",
       "      <td>14948.0</td>\n",
       "      <td>15549.0</td>\n",
       "      <td>1518.0</td>\n",
       "      <td>1500.0</td>\n",
       "      <td>1000.0</td>\n",
       "      <td>1000.0</td>\n",
       "      <td>1000.0</td>\n",
       "      <td>5000.0</td>\n",
       "      <td>0</td>\n",
       "    </tr>\n",
       "    <tr>\n",
       "      <th>3</th>\n",
       "      <td>50000.0</td>\n",
       "      <td>2</td>\n",
       "      <td>2</td>\n",
       "      <td>1</td>\n",
       "      <td>37</td>\n",
       "      <td>0</td>\n",
       "      <td>0</td>\n",
       "      <td>0</td>\n",
       "      <td>0</td>\n",
       "      <td>0</td>\n",
       "      <td>...</td>\n",
       "      <td>28314.0</td>\n",
       "      <td>28959.0</td>\n",
       "      <td>29547.0</td>\n",
       "      <td>2000.0</td>\n",
       "      <td>2019.0</td>\n",
       "      <td>1200.0</td>\n",
       "      <td>1100.0</td>\n",
       "      <td>1069.0</td>\n",
       "      <td>1000.0</td>\n",
       "      <td>0</td>\n",
       "    </tr>\n",
       "    <tr>\n",
       "      <th>4</th>\n",
       "      <td>50000.0</td>\n",
       "      <td>1</td>\n",
       "      <td>2</td>\n",
       "      <td>1</td>\n",
       "      <td>57</td>\n",
       "      <td>-1</td>\n",
       "      <td>0</td>\n",
       "      <td>-1</td>\n",
       "      <td>0</td>\n",
       "      <td>0</td>\n",
       "      <td>...</td>\n",
       "      <td>20940.0</td>\n",
       "      <td>19146.0</td>\n",
       "      <td>19131.0</td>\n",
       "      <td>2000.0</td>\n",
       "      <td>36681.0</td>\n",
       "      <td>10000.0</td>\n",
       "      <td>9000.0</td>\n",
       "      <td>689.0</td>\n",
       "      <td>679.0</td>\n",
       "      <td>0</td>\n",
       "    </tr>\n",
       "  </tbody>\n",
       "</table>\n",
       "<p>5 rows × 24 columns</p>\n",
       "</div>"
      ],
      "text/plain": [
       "   LIMIT_BAL  SEX  EDUCATION  MARRIAGE  AGE  PAY_0  PAY_2  PAY_3  PAY_4  \\\n",
       "0    20000.0    2          2         1   24      2      2     -1     -1   \n",
       "1   120000.0    2          2         2   26     -1      2      0      0   \n",
       "2    90000.0    2          2         2   34      0      0      0      0   \n",
       "3    50000.0    2          2         1   37      0      0      0      0   \n",
       "4    50000.0    1          2         1   57     -1      0     -1      0   \n",
       "\n",
       "   PAY_5  ...  BILL_AMT4  BILL_AMT5  BILL_AMT6  PAY_AMT1  PAY_AMT2  PAY_AMT3  \\\n",
       "0     -2  ...        0.0        0.0        0.0       0.0     689.0       0.0   \n",
       "1      0  ...     3272.0     3455.0     3261.0       0.0    1000.0    1000.0   \n",
       "2      0  ...    14331.0    14948.0    15549.0    1518.0    1500.0    1000.0   \n",
       "3      0  ...    28314.0    28959.0    29547.0    2000.0    2019.0    1200.0   \n",
       "4      0  ...    20940.0    19146.0    19131.0    2000.0   36681.0   10000.0   \n",
       "\n",
       "   PAY_AMT4  PAY_AMT5  PAY_AMT6  target  \n",
       "0       0.0       0.0       0.0       1  \n",
       "1    1000.0       0.0    2000.0       1  \n",
       "2    1000.0    1000.0    5000.0       0  \n",
       "3    1100.0    1069.0    1000.0       0  \n",
       "4    9000.0     689.0     679.0       0  \n",
       "\n",
       "[5 rows x 24 columns]"
      ]
     },
     "execution_count": 3,
     "metadata": {},
     "output_type": "execute_result"
    }
   ],
   "source": [
    "## Lets drop the id column\n",
    "df=df.drop(labels=['ID'],axis=1)\n",
    "df.head()"
   ]
  },
  {
   "cell_type": "code",
   "execution_count": 4,
   "metadata": {},
   "outputs": [
    {
     "name": "stdout",
     "output_type": "stream",
     "text": [
      "[INFO] filtering variables ...\n",
      "Variable filtering on 30000 rows and 24 columns in 00:00:59 \n",
      "2 variables are removed\n"
     ]
    }
   ],
   "source": [
    "df_cd_filtered=var_filter(df,'target')"
   ]
  },
  {
   "cell_type": "code",
   "execution_count": 5,
   "metadata": {},
   "outputs": [
    {
     "name": "stdout",
     "output_type": "stream",
     "text": [
      "[INFO] creating woe binning ...\n"
     ]
    }
   ],
   "source": [
    "bins =woebin(df_cd_filtered, y=\"target\")"
   ]
  },
  {
   "cell_type": "code",
   "execution_count": 6,
   "metadata": {},
   "outputs": [
    {
     "name": "stdout",
     "output_type": "stream",
     "text": [
      "[INFO] creating woe binning ...\n"
     ]
    }
   ],
   "source": [
    "breaks_adj = {\n",
    "    'AGE': [25, 30, 35,40,45 ],\n",
    "    'BILL_AMT1':[100,500,1000,3000,5000,10000,20000,30000,40000,50000,70000,100000,200000],\n",
    "    'BILL_AMT2':[100,500,1000,3000,5000,10000,20000,30000,40000,50000,70000,100000,200000],\n",
    "    'BILL_AMT3':[100,500,1000,3000,5000,10000,20000,30000,40000,50000,70000,100000,200000],\n",
    "    'BILL_AMT4':[100,500,1000,3000,5000,10000,20000,30000,40000,50000,70000,100000,200000],\n",
    "    'BILL_AMT5':[100,500,1000,3000,5000,10000,20000,30000,40000,50000,70000,100000,200000],\n",
    "    'BILL_AMT6':[100,500,1000,3000,5000,10000,20000,30000,40000,50000,70000,100000,200000],\n",
    "    'PAY_0':[-2,-1,0,1,2],\n",
    "    'PAY_2':[-2,-1,0,1,2],\n",
    "    'PAY_3':[-2,-1,0,1,2],\n",
    "    \n",
    "    'PAY_4':[-2,-1,0,1,2],\n",
    "    'PAY_5':[-2,-1,0,1,2],\n",
    "    'PAY_6':[-2,-1,0,1,2,3,4,5,6,7,8]\n",
    "}\n",
    "bins_adj = woebin(df_cd_filtered, y=\"target\", breaks_list=breaks_adj)"
   ]
  },
  {
   "attachments": {},
   "cell_type": "markdown",
   "metadata": {},
   "source": [
    "## Converting the dependent variables with woe original bins "
   ]
  },
  {
   "cell_type": "code",
   "execution_count": 7,
   "metadata": {},
   "outputs": [
    {
     "name": "stdout",
     "output_type": "stream",
     "text": [
      "[INFO] converting into woe values ...\n"
     ]
    }
   ],
   "source": [
    "df_cd_woe = woebin_ply(df_cd_filtered, bins)"
   ]
  },
  {
   "cell_type": "code",
   "execution_count": 8,
   "metadata": {},
   "outputs": [
    {
     "data": {
      "text/html": [
       "<div>\n",
       "<style scoped>\n",
       "    .dataframe tbody tr th:only-of-type {\n",
       "        vertical-align: middle;\n",
       "    }\n",
       "\n",
       "    .dataframe tbody tr th {\n",
       "        vertical-align: top;\n",
       "    }\n",
       "\n",
       "    .dataframe thead th {\n",
       "        text-align: right;\n",
       "    }\n",
       "</style>\n",
       "<table border=\"1\" class=\"dataframe\">\n",
       "  <thead>\n",
       "    <tr style=\"text-align: right;\">\n",
       "      <th></th>\n",
       "      <th>target</th>\n",
       "      <th>PAY_6_woe</th>\n",
       "      <th>BILL_AMT6_woe</th>\n",
       "      <th>BILL_AMT4_woe</th>\n",
       "      <th>PAY_AMT6_woe</th>\n",
       "      <th>BILL_AMT5_woe</th>\n",
       "      <th>PAY_AMT1_woe</th>\n",
       "      <th>PAY_4_woe</th>\n",
       "      <th>PAY_AMT4_woe</th>\n",
       "      <th>BILL_AMT2_woe</th>\n",
       "      <th>...</th>\n",
       "      <th>PAY_AMT3_woe</th>\n",
       "      <th>LIMIT_BAL_woe</th>\n",
       "      <th>PAY_AMT2_woe</th>\n",
       "      <th>PAY_AMT5_woe</th>\n",
       "      <th>BILL_AMT3_woe</th>\n",
       "      <th>PAY_5_woe</th>\n",
       "      <th>EDUCATION_woe</th>\n",
       "      <th>AGE_woe</th>\n",
       "      <th>PAY_0_woe</th>\n",
       "      <th>PAY_3_woe</th>\n",
       "    </tr>\n",
       "  </thead>\n",
       "  <tbody>\n",
       "    <tr>\n",
       "      <th>0</th>\n",
       "      <td>1</td>\n",
       "      <td>-0.125056</td>\n",
       "      <td>-0.054628</td>\n",
       "      <td>-0.010213</td>\n",
       "      <td>0.273671</td>\n",
       "      <td>-0.038327</td>\n",
       "      <td>0.552881</td>\n",
       "      <td>-0.277851</td>\n",
       "      <td>0.332804</td>\n",
       "      <td>0.001506</td>\n",
       "      <td>...</td>\n",
       "      <td>0.411208</td>\n",
       "      <td>0.676765</td>\n",
       "      <td>0.072079</td>\n",
       "      <td>0.300488</td>\n",
       "      <td>-0.023295</td>\n",
       "      <td>-0.147246</td>\n",
       "      <td>0.091416</td>\n",
       "      <td>0.246734</td>\n",
       "      <td>2.084775</td>\n",
       "      <td>-0.33087</td>\n",
       "    </tr>\n",
       "  </tbody>\n",
       "</table>\n",
       "<p>1 rows × 22 columns</p>\n",
       "</div>"
      ],
      "text/plain": [
       "   target  PAY_6_woe  BILL_AMT6_woe  BILL_AMT4_woe  PAY_AMT6_woe  \\\n",
       "0       1  -0.125056      -0.054628      -0.010213      0.273671   \n",
       "\n",
       "   BILL_AMT5_woe  PAY_AMT1_woe  PAY_4_woe  PAY_AMT4_woe  BILL_AMT2_woe  ...  \\\n",
       "0      -0.038327      0.552881  -0.277851      0.332804       0.001506  ...   \n",
       "\n",
       "   PAY_AMT3_woe  LIMIT_BAL_woe  PAY_AMT2_woe  PAY_AMT5_woe  BILL_AMT3_woe  \\\n",
       "0      0.411208       0.676765      0.072079      0.300488      -0.023295   \n",
       "\n",
       "   PAY_5_woe  EDUCATION_woe   AGE_woe  PAY_0_woe  PAY_3_woe  \n",
       "0  -0.147246       0.091416  0.246734   2.084775   -0.33087  \n",
       "\n",
       "[1 rows x 22 columns]"
      ]
     },
     "execution_count": 8,
     "metadata": {},
     "output_type": "execute_result"
    }
   ],
   "source": [
    "df_cd_woe.head(1)"
   ]
  },
  {
   "attachments": {},
   "cell_type": "markdown",
   "metadata": {},
   "source": [
    "## Converting the dependent variables with adjusted woe  bins "
   ]
  },
  {
   "cell_type": "code",
   "execution_count": 9,
   "metadata": {},
   "outputs": [
    {
     "name": "stdout",
     "output_type": "stream",
     "text": [
      "[INFO] converting into woe values ...\n"
     ]
    }
   ],
   "source": [
    "df_cd_woe_adj = woebin_ply(df_cd_filtered, bins_adj)"
   ]
  },
  {
   "cell_type": "code",
   "execution_count": 10,
   "metadata": {},
   "outputs": [
    {
     "data": {
      "text/html": [
       "<div>\n",
       "<style scoped>\n",
       "    .dataframe tbody tr th:only-of-type {\n",
       "        vertical-align: middle;\n",
       "    }\n",
       "\n",
       "    .dataframe tbody tr th {\n",
       "        vertical-align: top;\n",
       "    }\n",
       "\n",
       "    .dataframe thead th {\n",
       "        text-align: right;\n",
       "    }\n",
       "</style>\n",
       "<table border=\"1\" class=\"dataframe\">\n",
       "  <thead>\n",
       "    <tr style=\"text-align: right;\">\n",
       "      <th></th>\n",
       "      <th>target</th>\n",
       "      <th>PAY_6_woe</th>\n",
       "      <th>BILL_AMT6_woe</th>\n",
       "      <th>BILL_AMT4_woe</th>\n",
       "      <th>PAY_AMT6_woe</th>\n",
       "      <th>BILL_AMT5_woe</th>\n",
       "      <th>PAY_AMT1_woe</th>\n",
       "      <th>PAY_4_woe</th>\n",
       "      <th>PAY_AMT4_woe</th>\n",
       "      <th>BILL_AMT2_woe</th>\n",
       "      <th>...</th>\n",
       "      <th>PAY_AMT3_woe</th>\n",
       "      <th>LIMIT_BAL_woe</th>\n",
       "      <th>PAY_AMT2_woe</th>\n",
       "      <th>PAY_AMT5_woe</th>\n",
       "      <th>BILL_AMT3_woe</th>\n",
       "      <th>PAY_5_woe</th>\n",
       "      <th>EDUCATION_woe</th>\n",
       "      <th>AGE_woe</th>\n",
       "      <th>PAY_0_woe</th>\n",
       "      <th>PAY_3_woe</th>\n",
       "    </tr>\n",
       "  </thead>\n",
       "  <tbody>\n",
       "    <tr>\n",
       "      <th>0</th>\n",
       "      <td>1</td>\n",
       "      <td>-0.125017</td>\n",
       "      <td>0.05689</td>\n",
       "      <td>0.06934</td>\n",
       "      <td>0.273671</td>\n",
       "      <td>0.100303</td>\n",
       "      <td>0.552881</td>\n",
       "      <td>-0.407307</td>\n",
       "      <td>0.332804</td>\n",
       "      <td>-0.170958</td>\n",
       "      <td>...</td>\n",
       "      <td>0.411208</td>\n",
       "      <td>0.676765</td>\n",
       "      <td>0.072079</td>\n",
       "      <td>0.300488</td>\n",
       "      <td>-0.211762</td>\n",
       "      <td>-0.147246</td>\n",
       "      <td>0.091416</td>\n",
       "      <td>0.273586</td>\n",
       "      <td>2.084775</td>\n",
       "      <td>-0.430029</td>\n",
       "    </tr>\n",
       "  </tbody>\n",
       "</table>\n",
       "<p>1 rows × 22 columns</p>\n",
       "</div>"
      ],
      "text/plain": [
       "   target  PAY_6_woe  BILL_AMT6_woe  BILL_AMT4_woe  PAY_AMT6_woe  \\\n",
       "0       1  -0.125017        0.05689        0.06934      0.273671   \n",
       "\n",
       "   BILL_AMT5_woe  PAY_AMT1_woe  PAY_4_woe  PAY_AMT4_woe  BILL_AMT2_woe  ...  \\\n",
       "0       0.100303      0.552881  -0.407307      0.332804      -0.170958  ...   \n",
       "\n",
       "   PAY_AMT3_woe  LIMIT_BAL_woe  PAY_AMT2_woe  PAY_AMT5_woe  BILL_AMT3_woe  \\\n",
       "0      0.411208       0.676765      0.072079      0.300488      -0.211762   \n",
       "\n",
       "   PAY_5_woe  EDUCATION_woe   AGE_woe  PAY_0_woe  PAY_3_woe  \n",
       "0  -0.147246       0.091416  0.273586   2.084775  -0.430029  \n",
       "\n",
       "[1 rows x 22 columns]"
      ]
     },
     "execution_count": 10,
     "metadata": {},
     "output_type": "execute_result"
    }
   ],
   "source": [
    "df_cd_woe_adj.head(1)"
   ]
  },
  {
   "cell_type": "code",
   "execution_count": 11,
   "metadata": {},
   "outputs": [
    {
     "name": "stdout",
     "output_type": "stream",
     "text": [
      "shape of training set X: (21000, 21)\n",
      "shape of training set y: (21000, 1)\n",
      "ratio of label class of trainning: target\n",
      "0         0.779238\n",
      "1         0.220762\n",
      "dtype: float64\n",
      "shape of testing set  x: (9000, 21)\n",
      "shape of testing set  y: (9000, 1)\n",
      "ratio of label class of test: target\n",
      "0         0.777778\n",
      "1         0.222222\n",
      "dtype: float64\n"
     ]
    }
   ],
   "source": [
    "## Split data for woe initial bin ##\n",
    "\n",
    "x_train_woe, x_test_woe, y_train_woe, y_test_woe =split_data(df_cd_woe,'target',0.3)"
   ]
  },
  {
   "cell_type": "code",
   "execution_count": 12,
   "metadata": {},
   "outputs": [
    {
     "name": "stdout",
     "output_type": "stream",
     "text": [
      "shape of training set X: (21000, 21)\n",
      "shape of training set y: (21000, 1)\n",
      "ratio of label class of trainning: target\n",
      "0         0.779238\n",
      "1         0.220762\n",
      "dtype: float64\n",
      "shape of testing set  x: (9000, 21)\n",
      "shape of testing set  y: (9000, 1)\n",
      "ratio of label class of test: target\n",
      "0         0.777778\n",
      "1         0.222222\n",
      "dtype: float64\n"
     ]
    }
   ],
   "source": [
    "## Split data for woe  bin adj ##\n",
    "\n",
    "x_train_woeadj, x_test_woeadj, y_train_woeadj, y_test_woeadj =split_data(df_cd_woe_adj,'target',0.3)"
   ]
  },
  {
   "cell_type": "code",
   "execution_count": 13,
   "metadata": {},
   "outputs": [
    {
     "name": "stdout",
     "output_type": "stream",
     "text": [
      "shape of training set X: (21000, 21)\n",
      "shape of training set y: (21000, 1)\n",
      "ratio of label class of trainning: target\n",
      "0         0.779238\n",
      "1         0.220762\n",
      "dtype: float64\n",
      "shape of testing set  x: (9000, 21)\n",
      "shape of testing set  y: (9000, 1)\n",
      "ratio of label class of test: target\n",
      "0         0.777778\n",
      "1         0.222222\n",
      "dtype: float64\n"
     ]
    }
   ],
   "source": [
    "# Split the data without WOE\n",
    "\n",
    "x_train, x_test, y_train, y_test=split_data(df_cd_filtered,'target',0.3)"
   ]
  },
  {
   "attachments": {},
   "cell_type": "markdown",
   "metadata": {},
   "source": [
    "\n",
    "* S1: I have applied the woe created from the initial bins \n",
    "* S2: This sample is created with the adjusted woe \n",
    "* S3: This sample is created from the original dataset I,e data without imputing woe values \n",
    "\n",
    "* All S1,S2 and S3 are splitted in to test and train  \n"
   ]
  },
  {
   "cell_type": "code",
   "execution_count": 14,
   "metadata": {},
   "outputs": [],
   "source": [
    "classifiers=['Logistic Regression',\n",
    "             'KNN',\n",
    "             'Decision Tree', \n",
    "             'Random forest',\n",
    "             #'Linear Svm',\n",
    "            'Ada Boost'\n",
    "            #'xgboost'\n",
    "            ]\n",
    "\n",
    "models=[LogisticRegression(),\n",
    "        KNeighborsClassifier(n_neighbors=3),\n",
    "        DecisionTreeClassifier(), \n",
    "        RandomForestClassifier(n_estimators=100,random_state=0),\n",
    "        #svm.SVC(kernel='linear'),\n",
    "        AdaBoostClassifier(random_state=90)\n",
    "        #XGBClassifier(n_estimators=100, n_jobs=6, verbose=1)\n",
    "       ]"
   ]
  },
  {
   "cell_type": "code",
   "execution_count": 15,
   "metadata": {},
   "outputs": [
    {
     "data": {
      "text/html": [
       "<div>\n",
       "<style scoped>\n",
       "    .dataframe tbody tr th:only-of-type {\n",
       "        vertical-align: middle;\n",
       "    }\n",
       "\n",
       "    .dataframe tbody tr th {\n",
       "        vertical-align: top;\n",
       "    }\n",
       "\n",
       "    .dataframe thead th {\n",
       "        text-align: right;\n",
       "    }\n",
       "</style>\n",
       "<table border=\"1\" class=\"dataframe\">\n",
       "  <thead>\n",
       "    <tr style=\"text-align: right;\">\n",
       "      <th></th>\n",
       "      <th>index</th>\n",
       "      <th>Train_Accuracy</th>\n",
       "      <th>Test_Accuracy</th>\n",
       "      <th>Train_Precision</th>\n",
       "      <th>Test_Precision</th>\n",
       "      <th>Train_Recall</th>\n",
       "      <th>Test_Recall</th>\n",
       "      <th>Train_Fscore</th>\n",
       "      <th>Test_Fscore</th>\n",
       "      <th>Train_AUC</th>\n",
       "      <th>Test_AUC</th>\n",
       "    </tr>\n",
       "  </thead>\n",
       "  <tbody>\n",
       "    <tr>\n",
       "      <th>0</th>\n",
       "      <td>Logistic Regression</td>\n",
       "      <td>0.819333</td>\n",
       "      <td>0.817333</td>\n",
       "      <td>0.671977</td>\n",
       "      <td>0.677645</td>\n",
       "      <td>0.354832</td>\n",
       "      <td>0.3395</td>\n",
       "      <td>0.464427</td>\n",
       "      <td>0.452365</td>\n",
       "      <td>0.652880</td>\n",
       "      <td>0.646679</td>\n",
       "    </tr>\n",
       "    <tr>\n",
       "      <th>1</th>\n",
       "      <td>KNN</td>\n",
       "      <td>0.857429</td>\n",
       "      <td>0.780000</td>\n",
       "      <td>0.728563</td>\n",
       "      <td>0.506676</td>\n",
       "      <td>0.564495</td>\n",
       "      <td>0.3795</td>\n",
       "      <td>0.636121</td>\n",
       "      <td>0.433962</td>\n",
       "      <td>0.752457</td>\n",
       "      <td>0.636964</td>\n",
       "    </tr>\n",
       "    <tr>\n",
       "      <th>2</th>\n",
       "      <td>Decision Tree</td>\n",
       "      <td>0.967190</td>\n",
       "      <td>0.733444</td>\n",
       "      <td>0.986683</td>\n",
       "      <td>0.395931</td>\n",
       "      <td>0.863028</td>\n",
       "      <td>0.3795</td>\n",
       "      <td>0.920723</td>\n",
       "      <td>0.387541</td>\n",
       "      <td>0.929864</td>\n",
       "      <td>0.607036</td>\n",
       "    </tr>\n",
       "    <tr>\n",
       "      <th>3</th>\n",
       "      <td>Random forest</td>\n",
       "      <td>0.967190</td>\n",
       "      <td>0.801889</td>\n",
       "      <td>0.974970</td>\n",
       "      <td>0.588140</td>\n",
       "      <td>0.873814</td>\n",
       "      <td>0.3620</td>\n",
       "      <td>0.921624</td>\n",
       "      <td>0.448158</td>\n",
       "      <td>0.933729</td>\n",
       "      <td>0.644786</td>\n",
       "    </tr>\n",
       "    <tr>\n",
       "      <th>4</th>\n",
       "      <td>Ada Boost</td>\n",
       "      <td>0.818714</td>\n",
       "      <td>0.817111</td>\n",
       "      <td>0.683814</td>\n",
       "      <td>0.687898</td>\n",
       "      <td>0.332614</td>\n",
       "      <td>0.3240</td>\n",
       "      <td>0.447540</td>\n",
       "      <td>0.440517</td>\n",
       "      <td>0.644522</td>\n",
       "      <td>0.641000</td>\n",
       "    </tr>\n",
       "  </tbody>\n",
       "</table>\n",
       "</div>"
      ],
      "text/plain": [
       "                 index  Train_Accuracy  Test_Accuracy  Train_Precision  \\\n",
       "0  Logistic Regression        0.819333       0.817333         0.671977   \n",
       "1                  KNN        0.857429       0.780000         0.728563   \n",
       "2        Decision Tree        0.967190       0.733444         0.986683   \n",
       "3        Random forest        0.967190       0.801889         0.974970   \n",
       "4            Ada Boost        0.818714       0.817111         0.683814   \n",
       "\n",
       "   Test_Precision  Train_Recall  Test_Recall  Train_Fscore  Test_Fscore  \\\n",
       "0        0.677645      0.354832       0.3395      0.464427     0.452365   \n",
       "1        0.506676      0.564495       0.3795      0.636121     0.433962   \n",
       "2        0.395931      0.863028       0.3795      0.920723     0.387541   \n",
       "3        0.588140      0.873814       0.3620      0.921624     0.448158   \n",
       "4        0.687898      0.332614       0.3240      0.447540     0.440517   \n",
       "\n",
       "   Train_AUC  Test_AUC  \n",
       "0   0.652880  0.646679  \n",
       "1   0.752457  0.636964  \n",
       "2   0.929864  0.607036  \n",
       "3   0.933729  0.644786  \n",
       "4   0.644522  0.641000  "
      ]
     },
     "execution_count": 15,
     "metadata": {},
     "output_type": "execute_result"
    }
   ],
   "source": [
    "## S1 ##\n",
    "compare_classification_model(x_train_woe,y_train_woe,x_test_woe,y_test_woe,classifiers,models)"
   ]
  },
  {
   "cell_type": "code",
   "execution_count": 16,
   "metadata": {},
   "outputs": [
    {
     "data": {
      "text/html": [
       "<div>\n",
       "<style scoped>\n",
       "    .dataframe tbody tr th:only-of-type {\n",
       "        vertical-align: middle;\n",
       "    }\n",
       "\n",
       "    .dataframe tbody tr th {\n",
       "        vertical-align: top;\n",
       "    }\n",
       "\n",
       "    .dataframe thead th {\n",
       "        text-align: right;\n",
       "    }\n",
       "</style>\n",
       "<table border=\"1\" class=\"dataframe\">\n",
       "  <thead>\n",
       "    <tr style=\"text-align: right;\">\n",
       "      <th></th>\n",
       "      <th>index</th>\n",
       "      <th>Train_Accuracy</th>\n",
       "      <th>Test_Accuracy</th>\n",
       "      <th>Train_Precision</th>\n",
       "      <th>Test_Precision</th>\n",
       "      <th>Train_Recall</th>\n",
       "      <th>Test_Recall</th>\n",
       "      <th>Train_Fscore</th>\n",
       "      <th>Test_Fscore</th>\n",
       "      <th>Train_AUC</th>\n",
       "      <th>Test_AUC</th>\n",
       "    </tr>\n",
       "  </thead>\n",
       "  <tbody>\n",
       "    <tr>\n",
       "      <th>0</th>\n",
       "      <td>Logistic Regression</td>\n",
       "      <td>0.819476</td>\n",
       "      <td>0.817444</td>\n",
       "      <td>0.672379</td>\n",
       "      <td>0.676558</td>\n",
       "      <td>0.355479</td>\n",
       "      <td>0.3420</td>\n",
       "      <td>0.465077</td>\n",
       "      <td>0.454334</td>\n",
       "      <td>0.653204</td>\n",
       "      <td>0.647643</td>\n",
       "    </tr>\n",
       "    <tr>\n",
       "      <th>1</th>\n",
       "      <td>KNN</td>\n",
       "      <td>0.862810</td>\n",
       "      <td>0.780444</td>\n",
       "      <td>0.748795</td>\n",
       "      <td>0.508141</td>\n",
       "      <td>0.569672</td>\n",
       "      <td>0.3745</td>\n",
       "      <td>0.647066</td>\n",
       "      <td>0.431203</td>\n",
       "      <td>0.757764</td>\n",
       "      <td>0.635464</td>\n",
       "    </tr>\n",
       "    <tr>\n",
       "      <th>2</th>\n",
       "      <td>Decision Tree</td>\n",
       "      <td>0.980571</td>\n",
       "      <td>0.727333</td>\n",
       "      <td>0.984862</td>\n",
       "      <td>0.388725</td>\n",
       "      <td>0.926230</td>\n",
       "      <td>0.3965</td>\n",
       "      <td>0.954647</td>\n",
       "      <td>0.392574</td>\n",
       "      <td>0.961098</td>\n",
       "      <td>0.609179</td>\n",
       "    </tr>\n",
       "    <tr>\n",
       "      <th>3</th>\n",
       "      <td>Random forest</td>\n",
       "      <td>0.980524</td>\n",
       "      <td>0.798778</td>\n",
       "      <td>0.975478</td>\n",
       "      <td>0.577143</td>\n",
       "      <td>0.935289</td>\n",
       "      <td>0.3535</td>\n",
       "      <td>0.954961</td>\n",
       "      <td>0.438450</td>\n",
       "      <td>0.964314</td>\n",
       "      <td>0.639750</td>\n",
       "    </tr>\n",
       "    <tr>\n",
       "      <th>4</th>\n",
       "      <td>Ada Boost</td>\n",
       "      <td>0.819952</td>\n",
       "      <td>0.817000</td>\n",
       "      <td>0.688077</td>\n",
       "      <td>0.683281</td>\n",
       "      <td>0.337360</td>\n",
       "      <td>0.3290</td>\n",
       "      <td>0.452743</td>\n",
       "      <td>0.444144</td>\n",
       "      <td>0.647016</td>\n",
       "      <td>0.642714</td>\n",
       "    </tr>\n",
       "  </tbody>\n",
       "</table>\n",
       "</div>"
      ],
      "text/plain": [
       "                 index  Train_Accuracy  Test_Accuracy  Train_Precision  \\\n",
       "0  Logistic Regression        0.819476       0.817444         0.672379   \n",
       "1                  KNN        0.862810       0.780444         0.748795   \n",
       "2        Decision Tree        0.980571       0.727333         0.984862   \n",
       "3        Random forest        0.980524       0.798778         0.975478   \n",
       "4            Ada Boost        0.819952       0.817000         0.688077   \n",
       "\n",
       "   Test_Precision  Train_Recall  Test_Recall  Train_Fscore  Test_Fscore  \\\n",
       "0        0.676558      0.355479       0.3420      0.465077     0.454334   \n",
       "1        0.508141      0.569672       0.3745      0.647066     0.431203   \n",
       "2        0.388725      0.926230       0.3965      0.954647     0.392574   \n",
       "3        0.577143      0.935289       0.3535      0.954961     0.438450   \n",
       "4        0.683281      0.337360       0.3290      0.452743     0.444144   \n",
       "\n",
       "   Train_AUC  Test_AUC  \n",
       "0   0.653204  0.647643  \n",
       "1   0.757764  0.635464  \n",
       "2   0.961098  0.609179  \n",
       "3   0.964314  0.639750  \n",
       "4   0.647016  0.642714  "
      ]
     },
     "execution_count": 16,
     "metadata": {},
     "output_type": "execute_result"
    }
   ],
   "source": [
    "### S2 ###\n",
    "compare_classification_model(x_train_woeadj,y_train_woeadj,x_test_woeadj,y_test_woeadj,classifiers,models)"
   ]
  },
  {
   "cell_type": "code",
   "execution_count": 17,
   "metadata": {},
   "outputs": [
    {
     "data": {
      "text/html": [
       "<div>\n",
       "<style scoped>\n",
       "    .dataframe tbody tr th:only-of-type {\n",
       "        vertical-align: middle;\n",
       "    }\n",
       "\n",
       "    .dataframe tbody tr th {\n",
       "        vertical-align: top;\n",
       "    }\n",
       "\n",
       "    .dataframe thead th {\n",
       "        text-align: right;\n",
       "    }\n",
       "</style>\n",
       "<table border=\"1\" class=\"dataframe\">\n",
       "  <thead>\n",
       "    <tr style=\"text-align: right;\">\n",
       "      <th></th>\n",
       "      <th>index</th>\n",
       "      <th>Train_Accuracy</th>\n",
       "      <th>Test_Accuracy</th>\n",
       "      <th>Train_Precision</th>\n",
       "      <th>Test_Precision</th>\n",
       "      <th>Train_Recall</th>\n",
       "      <th>Test_Recall</th>\n",
       "      <th>Train_Fscore</th>\n",
       "      <th>Test_Fscore</th>\n",
       "      <th>Train_AUC</th>\n",
       "      <th>Test_AUC</th>\n",
       "    </tr>\n",
       "  </thead>\n",
       "  <tbody>\n",
       "    <tr>\n",
       "      <th>0</th>\n",
       "      <td>Logistic Regression</td>\n",
       "      <td>0.779190</td>\n",
       "      <td>0.777778</td>\n",
       "      <td>0.333333</td>\n",
       "      <td>0.000000</td>\n",
       "      <td>0.000216</td>\n",
       "      <td>0.0000</td>\n",
       "      <td>0.000431</td>\n",
       "      <td>0.000000</td>\n",
       "      <td>0.500047</td>\n",
       "      <td>0.500000</td>\n",
       "    </tr>\n",
       "    <tr>\n",
       "      <th>1</th>\n",
       "      <td>KNN</td>\n",
       "      <td>0.847048</td>\n",
       "      <td>0.737333</td>\n",
       "      <td>0.734057</td>\n",
       "      <td>0.354864</td>\n",
       "      <td>0.481665</td>\n",
       "      <td>0.2225</td>\n",
       "      <td>0.581662</td>\n",
       "      <td>0.273510</td>\n",
       "      <td>0.716114</td>\n",
       "      <td>0.553464</td>\n",
       "    </tr>\n",
       "    <tr>\n",
       "      <th>2</th>\n",
       "      <td>Decision Tree</td>\n",
       "      <td>0.998619</td>\n",
       "      <td>0.718778</td>\n",
       "      <td>0.999566</td>\n",
       "      <td>0.377026</td>\n",
       "      <td>0.994176</td>\n",
       "      <td>0.4070</td>\n",
       "      <td>0.996864</td>\n",
       "      <td>0.391440</td>\n",
       "      <td>0.997027</td>\n",
       "      <td>0.607429</td>\n",
       "    </tr>\n",
       "    <tr>\n",
       "      <th>3</th>\n",
       "      <td>Random forest</td>\n",
       "      <td>0.998619</td>\n",
       "      <td>0.814444</td>\n",
       "      <td>0.996765</td>\n",
       "      <td>0.645760</td>\n",
       "      <td>0.996980</td>\n",
       "      <td>0.3655</td>\n",
       "      <td>0.996873</td>\n",
       "      <td>0.466794</td>\n",
       "      <td>0.998032</td>\n",
       "      <td>0.654107</td>\n",
       "    </tr>\n",
       "    <tr>\n",
       "      <th>4</th>\n",
       "      <td>Ada Boost</td>\n",
       "      <td>0.819762</td>\n",
       "      <td>0.813667</td>\n",
       "      <td>0.694737</td>\n",
       "      <td>0.677668</td>\n",
       "      <td>0.327437</td>\n",
       "      <td>0.3080</td>\n",
       "      <td>0.445096</td>\n",
       "      <td>0.423513</td>\n",
       "      <td>0.643339</td>\n",
       "      <td>0.633071</td>\n",
       "    </tr>\n",
       "  </tbody>\n",
       "</table>\n",
       "</div>"
      ],
      "text/plain": [
       "                 index  Train_Accuracy  Test_Accuracy  Train_Precision  \\\n",
       "0  Logistic Regression        0.779190       0.777778         0.333333   \n",
       "1                  KNN        0.847048       0.737333         0.734057   \n",
       "2        Decision Tree        0.998619       0.718778         0.999566   \n",
       "3        Random forest        0.998619       0.814444         0.996765   \n",
       "4            Ada Boost        0.819762       0.813667         0.694737   \n",
       "\n",
       "   Test_Precision  Train_Recall  Test_Recall  Train_Fscore  Test_Fscore  \\\n",
       "0        0.000000      0.000216       0.0000      0.000431     0.000000   \n",
       "1        0.354864      0.481665       0.2225      0.581662     0.273510   \n",
       "2        0.377026      0.994176       0.4070      0.996864     0.391440   \n",
       "3        0.645760      0.996980       0.3655      0.996873     0.466794   \n",
       "4        0.677668      0.327437       0.3080      0.445096     0.423513   \n",
       "\n",
       "   Train_AUC  Test_AUC  \n",
       "0   0.500047  0.500000  \n",
       "1   0.716114  0.553464  \n",
       "2   0.997027  0.607429  \n",
       "3   0.998032  0.654107  \n",
       "4   0.643339  0.633071  "
      ]
     },
     "execution_count": 17,
     "metadata": {},
     "output_type": "execute_result"
    }
   ],
   "source": [
    "## S3 #\n",
    "compare_classification_model(x_train,y_train,x_test,y_test,classifiers,models)"
   ]
  },
  {
   "cell_type": "code",
   "execution_count": 18,
   "metadata": {},
   "outputs": [],
   "source": [
    "### Conclution"
   ]
  },
  {
   "attachments": {},
   "cell_type": "markdown",
   "metadata": {},
   "source": [
    "### Conclution"
   ]
  },
  {
   "attachments": {},
   "cell_type": "markdown",
   "metadata": {},
   "source": []
  },
  {
   "attachments": {},
   "cell_type": "markdown",
   "metadata": {},
   "source": [
    "For Sample1 or S1:\n",
    "•\tLogistic Regression is giving accuracy of 0.819667 in train and 0.817222 in test, so it is clear that model is not over/under fit. Precision score is 0.672491 and 0.675222 for train and test respectively. It means ~67% class are actually positive out of all correctly  predicted class( TP,TN). Recall score are 0.356989 and 0.3420 respectively. It means out of all ~35% positive class are truly predicted out of all positive class \n",
    "\n",
    "\n",
    "•\tDecision Tree and Random Forest  is giving better accuracy than logistic regression but test accuracy is not matching with test accuracy. So there has a overfitting issue, Precision and recall score also speak the same.\n",
    "\n",
    "•\tKNN is giving me better accuracy then logistic regression 0.857429, but test set is  0.777111. though it also has overfitting issue but minimal than Decision Tree and Random Forest. Precision score is 0.777111 but this not incorporate with the test data, score achieved 0.498031. Recall score for test 0.3795 achieved with respective to 0.563632 achieved in train.\n",
    "\n",
    "\n",
    "•\tAda Boost accuracy is 0.819143 achieved in train set and 0.814333 in test. Clearly model is not over fit. Precision score is 0.684095 and 0.674814 for train and test respectively. Recall score is 0.335850, 0.3175 for train and test. \n",
    "\n",
    "Noe out of the all algorithm Logistic Regression and Ada Boost has more robust result then then others . \n",
    "\n",
    "For Sample2 or S2:\n",
    "lt achieved from S2. So this is clear binning adjustment is not adding up any special value \n",
    "\n",
    "\n",
    "\n",
    "\n",
    "S3 is the original dataset or data value not altered by woe bins. Logistic regression is giving very poor accuracy with 0.779143 and 0.777778 for train and test dataset. Precision and recall value is 0.000 so its means all class are predicted as negative . This module is not considered as an effective algorithm.\n",
    "Ada Boost is giving is constant result as S! or S2 with  respect to accuracy and Precision and recall score.\n",
    "So I am choosing Logistic regression and Ada Boost for the next phase of modeling\n",
    "\n",
    " \n",
    "\n"
   ]
  },
  {
   "attachments": {},
   "cell_type": "markdown",
   "metadata": {},
   "source": []
  },
  {
   "cell_type": "code",
   "execution_count": 19,
   "metadata": {},
   "outputs": [
    {
     "name": "stdout",
     "output_type": "stream",
     "text": [
      "Optimization terminated successfully.\n",
      "         Current function value: 0.556047\n",
      "         Iterations 6\n",
      "                         Results: Logit\n",
      "=================================================================\n",
      "Model:              Logit            Pseudo R-squared: -0.053    \n",
      "Dependent Variable: target           AIC:              23395.9773\n",
      "Date:               2023-05-24 02:38 BIC:              23562.9752\n",
      "No. Observations:   21000            Log-Likelihood:   -11677.   \n",
      "Df Model:           20               LL-Null:          -11085.   \n",
      "Df Residuals:       20979            LLR p-value:      1.0000    \n",
      "Converged:          1.0000           Scale:            1.0000    \n",
      "No. Iterations:     6.0000                                       \n",
      "-----------------------------------------------------------------\n",
      "                   Coef.  Std.Err.    z    P>|z|   [0.025  0.975]\n",
      "-----------------------------------------------------------------\n",
      "PAY_6_woe          0.3197   0.0487  6.5638 0.0000  0.2242  0.4152\n",
      "BILL_AMT6_woe      0.2782   0.2418  1.1506 0.2499 -0.1957  0.7520\n",
      "BILL_AMT4_woe     -0.4847   0.2546 -1.9035 0.0570 -0.9837  0.0144\n",
      "PAY_AMT6_woe       0.1638   0.0666  2.4610 0.0139  0.0333  0.2943\n",
      "BILL_AMT5_woe      0.5695   0.2544  2.2389 0.0252  0.0710  1.0681\n",
      "PAY_AMT1_woe       0.1459   0.0526  2.7760 0.0055  0.0429  0.2489\n",
      "PAY_4_woe          0.2489   0.0477  5.2218 0.0000  0.1555  0.3424\n",
      "PAY_AMT4_woe       0.1375   0.0696  1.9755 0.0482  0.0011  0.2739\n",
      "BILL_AMT2_woe     -0.0496   0.2528 -0.1964 0.8443 -0.5452  0.4459\n",
      "BILL_AMT1_woe     -1.1450   0.2935 -3.9017 0.0001 -1.7202 -0.5698\n",
      "PAY_2_woe          0.0919   0.0393  2.3410 0.0192  0.0150  0.1689\n",
      "PAY_AMT3_woe       0.1540   0.0618  2.4915 0.0127  0.0329  0.2752\n",
      "LIMIT_BAL_woe      0.4247   0.0475  8.9316 0.0000  0.3315  0.5179\n",
      "PAY_AMT2_woe       0.1767   0.0533  3.3166 0.0009  0.0723  0.2812\n",
      "PAY_AMT5_woe       0.0937   0.0710  1.3183 0.1874 -0.0456  0.2329\n",
      "BILL_AMT3_woe     -0.6029   0.3390 -1.7782 0.0754 -1.2673  0.0616\n",
      "PAY_5_woe          0.2522   0.0518  4.8721 0.0000  0.1508  0.3537\n",
      "EDUCATION_woe      0.1531   0.1294  1.1830 0.2368 -0.1005  0.4067\n",
      "AGE_woe            0.4251   0.1129  3.7637 0.0002  0.2037  0.6464\n",
      "PAY_0_woe          0.9475   0.0286 33.0907 0.0000  0.8913  1.0036\n",
      "PAY_3_woe          0.2557   0.0424  6.0269 0.0000  0.1726  0.3389\n",
      "=================================================================\n",
      "\n"
     ]
    }
   ],
   "source": [
    "import statsmodels.api as sm\n",
    "logit_model=sm.Logit(y_train_woe,x_train_woe)\n",
    "result=logit_model.fit()\n",
    "print(result.summary2())\n"
   ]
  },
  {
   "cell_type": "code",
   "execution_count": 20,
   "metadata": {},
   "outputs": [
    {
     "data": {
      "text/plain": [
       "LogisticRegression()"
      ]
     },
     "execution_count": 20,
     "metadata": {},
     "output_type": "execute_result"
    }
   ],
   "source": [
    "lr = LogisticRegression()\n",
    "lr.fit(x_train_woe, y_train_woe)"
   ]
  },
  {
   "cell_type": "code",
   "execution_count": 21,
   "metadata": {},
   "outputs": [
    {
     "data": {
      "text/html": [
       "<div>\n",
       "<style scoped>\n",
       "    .dataframe tbody tr th:only-of-type {\n",
       "        vertical-align: middle;\n",
       "    }\n",
       "\n",
       "    .dataframe tbody tr th {\n",
       "        vertical-align: top;\n",
       "    }\n",
       "\n",
       "    .dataframe thead th {\n",
       "        text-align: right;\n",
       "    }\n",
       "</style>\n",
       "<table border=\"1\" class=\"dataframe\">\n",
       "  <thead>\n",
       "    <tr style=\"text-align: right;\">\n",
       "      <th></th>\n",
       "      <th>y_test_class_actual</th>\n",
       "      <th>y_hat_test_proba</th>\n",
       "    </tr>\n",
       "  </thead>\n",
       "  <tbody>\n",
       "    <tr>\n",
       "      <th>10747</th>\n",
       "      <td>0</td>\n",
       "      <td>0.102482</td>\n",
       "    </tr>\n",
       "    <tr>\n",
       "      <th>12573</th>\n",
       "      <td>1</td>\n",
       "      <td>0.383740</td>\n",
       "    </tr>\n",
       "    <tr>\n",
       "      <th>29676</th>\n",
       "      <td>0</td>\n",
       "      <td>0.110309</td>\n",
       "    </tr>\n",
       "    <tr>\n",
       "      <th>8856</th>\n",
       "      <td>1</td>\n",
       "      <td>0.825527</td>\n",
       "    </tr>\n",
       "    <tr>\n",
       "      <th>21098</th>\n",
       "      <td>0</td>\n",
       "      <td>0.318772</td>\n",
       "    </tr>\n",
       "  </tbody>\n",
       "</table>\n",
       "</div>"
      ],
      "text/plain": [
       "       y_test_class_actual  y_hat_test_proba\n",
       "10747                    0          0.102482\n",
       "12573                    1          0.383740\n",
       "29676                    0          0.110309\n",
       "8856                     1          0.825527\n",
       "21098                    0          0.318772"
      ]
     },
     "execution_count": 21,
     "metadata": {},
     "output_type": "execute_result"
    }
   ],
   "source": [
    "# make preditions on our test set\n",
    "y_hat_test = lr.predict(x_test_woe)\n",
    "# get the predicted probabilities\n",
    "y_hat_test_proba = lr.predict_proba(x_test_woe)\n",
    "# select the probabilities of only the positive class (class 1 - default) \n",
    "y_hat_test_proba = y_hat_test_proba[:][: , 1]\n",
    "# we will now create a new DF with actual classes and the predicted probabilities\n",
    "# create a temp y_test DF to reset its index to allow proper concaternation with y_hat_test_proba\n",
    "y_test_temp = y_test_woe.copy()\n",
    "y_test_temp.reset_index(drop = True, inplace = True)\n",
    "y_test_proba = pd.concat([y_test_temp, pd.DataFrame(y_hat_test_proba)], axis = 1)\n",
    "# check the shape to make sure the number of rows is same as that in y_test\n",
    "y_test_proba.shape\n",
    "\n",
    "# Rename the columns\n",
    "y_test_proba.columns = ['y_test_class_actual', 'y_hat_test_proba']\n",
    "# Makes the index of one dataframe equal to the index of another dataframe.\n",
    "y_test_proba.index = x_test_woe.index\n",
    "y_test_proba.head()"
   ]
  },
  {
   "cell_type": "code",
   "execution_count": 24,
   "metadata": {},
   "outputs": [
    {
     "data": {
      "text/plain": [
       "<sklearn.metrics._plot.confusion_matrix.ConfusionMatrixDisplay at 0x2771db24250>"
      ]
     },
     "execution_count": 24,
     "metadata": {},
     "output_type": "execute_result"
    },
    {
     "data": {
      "image/png": "[encoded data removed]",
      "text/plain": [
       "<Figure size 432x288 with 2 Axes>"
      ]
     },
     "metadata": {
      "needs_background": "light"
     },
     "output_type": "display_data"
    }
   ],
   "source": [
    "# assign a threshold value to differentiate (base = 50% prob)\n",
    "tr = 0.5\n",
    "# crate a new column for the predicted class based on predicted probabilities and threshold\n",
    "# We will determine this optimal threshold later in this project\n",
    "y_test_proba['y_test_class_predicted'] = np.where(y_test_proba['y_hat_test_proba'] > tr, 1, 0)\n",
    "# create the confusion matrix\n",
    "cm=confusion_matrix(y_test_proba['y_test_class_actual'],\n",
    "                 y_test_proba['y_test_class_predicted'])\n",
    "\n",
    "cmd = ConfusionMatrixDisplay(cm, display_labels=['good','bad'])\n",
    "cmd.plot()"
   ]
  },
  {
   "attachments": {},
   "cell_type": "markdown",
   "metadata": {},
   "source": [
    "## Above confusion metrics tells that out of 2000 bad only 616 bad and 6707 good are predicted correctly. There are  1384 predicted incorrect as good and 293 predicted incorrect as Bad \n"
   ]
  },
  {
   "cell_type": "code",
   "execution_count": 27,
   "metadata": {},
   "outputs": [
    {
     "data": {
      "image/png": "[encoded data removed]",
      "text/plain": [
       "<Figure size 720x576 with 1 Axes>"
      ]
     },
     "metadata": {
      "needs_background": "light"
     },
     "output_type": "display_data"
    }
   ],
   "source": [
    "# get the values required to plot a ROC curve\n",
    "fpr, tpr, thresholds = roc_curve(y_test_proba['y_test_class_actual'], y_test_proba['y_hat_test_proba'])\n",
    "# plot the ROC curve\n",
    "plt.figure(figsize=(10,8))\n",
    "plt.plot(fpr, tpr)\n",
    "# plot a secondary diagonal line, with dashed line style and black color to represent a no-skill classifier\n",
    "plt.plot(fpr, fpr, linestyle = '--', color = 'k')\n",
    "plt.xlabel('False positive rate')\n",
    "plt.ylabel('True positive rate')\n",
    "plt.title('ROC curve');"
   ]
  },
  {
   "cell_type": "code",
   "execution_count": 28,
   "metadata": {},
   "outputs": [
    {
     "data": {
      "text/plain": [
       "0.7712918571428573"
      ]
     },
     "execution_count": 28,
     "metadata": {},
     "output_type": "execute_result"
    }
   ],
   "source": [
    "# Calculate the Area Under the Receiver Operating Characteristic Curve (AUROC) on our test set\n",
    "auroc = roc_auc_score(y_test_proba['y_test_class_actual'], y_test_proba['y_hat_test_proba'])\n",
    "auroc"
   ]
  },
  {
   "cell_type": "code",
   "execution_count": 29,
   "metadata": {},
   "outputs": [
    {
     "data": {
      "text/plain": [
       "0.5425837142857146"
      ]
     },
     "execution_count": 29,
     "metadata": {},
     "output_type": "execute_result"
    }
   ],
   "source": [
    "# calculate Gini from AUROC\n",
    "gini = auroc * 2 - 1\n",
    "gini"
   ]
  },
  {
   "attachments": {},
   "cell_type": "markdown",
   "metadata": {},
   "source": [
    "From the logistic regression summary there are few parameters by which we can determine the best optimum model. Initially all the independent are considered as input variable. From the summary, few independent variables like ‘ PAY_AMT5_woe’,are not adding up values as P values of those variables are greater than 0.05(significance label), So all those variables will be drop in next phase of iteration. Notably this has been seen that accuracy, Precision and recall values are respectively better than other models. All these metrices are calculated considering 0.5 as threshold value. So to get the optimum value I will check accuracy ,precision value with respect to different probability threshold value \n"
   ]
  },
  {
   "cell_type": "code",
   "execution_count": 30,
   "metadata": {},
   "outputs": [],
   "source": [
    "lst=x_train_woe.columns.tolist()"
   ]
  },
  {
   "cell_type": "code",
   "execution_count": 31,
   "metadata": {},
   "outputs": [],
   "source": [
    "lst_in=['BILL_AMT3_woe',\n",
    " #'BILL_AMT5_woe',\n",
    " 'AGE_woe',\n",
    " #'BILL_AMT6_woe',\n",
    " 'PAY_2_woe',\n",
    " 'PAY_AMT4_woe',\n",
    " #'BILL_AMT4_woe',\n",
    " #'EDUCATION_woe',\n",
    " 'PAY_3_woe',\n",
    " 'PAY_0_woe',\n",
    " 'BILL_AMT1_woe',\n",
    " 'PAY_AMT3_woe',\n",
    " #'PAY_AMT5_woe',\n",
    " 'PAY_6_woe',\n",
    " 'PAY_4_woe',\n",
    " 'PAY_5_woe',\n",
    " 'PAY_AMT1_woe',\n",
    " 'LIMIT_BAL_woe',\n",
    "# 'BILL_AMT2_woe',\n",
    " 'PAY_AMT6_woe',\n",
    " 'PAY_AMT2_woe']"
   ]
  },
  {
   "cell_type": "code",
   "execution_count": 33,
   "metadata": {},
   "outputs": [
    {
     "name": "stdout",
     "output_type": "stream",
     "text": [
      "Optimization terminated successfully.\n",
      "         Current function value: 0.556409\n",
      "         Iterations 6\n",
      "                         Results: Logit\n",
      "=================================================================\n",
      "Model:              Logit            Pseudo R-squared: -0.054    \n",
      "Dependent Variable: target           AIC:              23399.1647\n",
      "Date:               2023-05-24 02:43 BIC:              23518.4489\n",
      "No. Observations:   21000            Log-Likelihood:   -11685.   \n",
      "Df Model:           14               LL-Null:          -11085.   \n",
      "Df Residuals:       20985            LLR p-value:      1.0000    \n",
      "Converged:          1.0000           Scale:            1.0000    \n",
      "No. Iterations:     6.0000                                       \n",
      "-----------------------------------------------------------------\n",
      "                   Coef.  Std.Err.    z    P>|z|   [0.025  0.975]\n",
      "-----------------------------------------------------------------\n",
      "BILL_AMT3_woe     -0.4137   0.2781 -1.4874 0.1369 -0.9589  0.1314\n",
      "AGE_woe            0.4506   0.1125  4.0067 0.0001  0.2302  0.6710\n",
      "PAY_2_woe          0.0933   0.0392  2.3801 0.0173  0.0165  0.1702\n",
      "PAY_AMT4_woe       0.1298   0.0676  1.9191 0.0550 -0.0028  0.2623\n",
      "PAY_3_woe          0.2548   0.0424  6.0129 0.0000  0.1717  0.3378\n",
      "PAY_0_woe          0.9460   0.0286 33.0886 0.0000  0.8900  1.0020\n",
      "BILL_AMT1_woe     -1.1853   0.2717 -4.3631 0.0000 -1.7177 -0.6528\n",
      "PAY_AMT3_woe       0.1545   0.0609  2.5360 0.0112  0.0351  0.2738\n",
      "PAY_6_woe          0.3311   0.0473  7.0009 0.0000  0.2384  0.4239\n",
      "PAY_4_woe          0.2511   0.0476  5.2707 0.0000  0.1577  0.3444\n",
      "PAY_5_woe          0.2494   0.0515  4.8409 0.0000  0.1484  0.3503\n",
      "PAY_AMT1_woe       0.1464   0.0523  2.8005 0.0051  0.0439  0.2489\n",
      "LIMIT_BAL_woe      0.4563   0.0457  9.9808 0.0000  0.3667  0.5459\n",
      "PAY_AMT6_woe       0.1837   0.0648  2.8338 0.0046  0.0566  0.3107\n",
      "PAY_AMT2_woe       0.1808   0.0528  3.4263 0.0006  0.0774  0.2842\n",
      "=================================================================\n",
      "\n"
     ]
    },
    {
     "data": {
      "text/plain": [
       "LogisticRegression()"
      ]
     },
     "execution_count": 33,
     "metadata": {},
     "output_type": "execute_result"
    }
   ],
   "source": [
    "logit_model=sm.Logit(y_train_woe,x_train_woe[lst_in])\n",
    "result=logit_model.fit()\n",
    "print(result.summary2())\n",
    "\n",
    "lr = LogisticRegression()\n",
    "lr.fit(x_train_woe[lst_in], y_train_woe)\n"
   ]
  },
  {
   "cell_type": "code",
   "execution_count": 34,
   "metadata": {},
   "outputs": [
    {
     "data": {
      "text/html": [
       "<div>\n",
       "<style scoped>\n",
       "    .dataframe tbody tr th:only-of-type {\n",
       "        vertical-align: middle;\n",
       "    }\n",
       "\n",
       "    .dataframe tbody tr th {\n",
       "        vertical-align: top;\n",
       "    }\n",
       "\n",
       "    .dataframe thead th {\n",
       "        text-align: right;\n",
       "    }\n",
       "</style>\n",
       "<table border=\"1\" class=\"dataframe\">\n",
       "  <thead>\n",
       "    <tr style=\"text-align: right;\">\n",
       "      <th></th>\n",
       "      <th>y_test_class_actual</th>\n",
       "      <th>y_hat_test_proba</th>\n",
       "    </tr>\n",
       "  </thead>\n",
       "  <tbody>\n",
       "    <tr>\n",
       "      <th>10747</th>\n",
       "      <td>0</td>\n",
       "      <td>0.099062</td>\n",
       "    </tr>\n",
       "    <tr>\n",
       "      <th>12573</th>\n",
       "      <td>1</td>\n",
       "      <td>0.388568</td>\n",
       "    </tr>\n",
       "    <tr>\n",
       "      <th>29676</th>\n",
       "      <td>0</td>\n",
       "      <td>0.126819</td>\n",
       "    </tr>\n",
       "    <tr>\n",
       "      <th>8856</th>\n",
       "      <td>1</td>\n",
       "      <td>0.815546</td>\n",
       "    </tr>\n",
       "    <tr>\n",
       "      <th>21098</th>\n",
       "      <td>0</td>\n",
       "      <td>0.311760</td>\n",
       "    </tr>\n",
       "  </tbody>\n",
       "</table>\n",
       "</div>"
      ],
      "text/plain": [
       "       y_test_class_actual  y_hat_test_proba\n",
       "10747                    0          0.099062\n",
       "12573                    1          0.388568\n",
       "29676                    0          0.126819\n",
       "8856                     1          0.815546\n",
       "21098                    0          0.311760"
      ]
     },
     "execution_count": 34,
     "metadata": {},
     "output_type": "execute_result"
    }
   ],
   "source": [
    "# make preditions on our test set\n",
    "y_hat_test = lr.predict(x_test_woe[lst_in])\n",
    "# get the predicted probabilities\n",
    "y_hat_test_proba = lr.predict_proba(x_test_woe[lst_in])\n",
    "# select the probabilities of only the positive class (class 1 - default) \n",
    "y_hat_test_proba = y_hat_test_proba[:][: , 1]\n",
    "# we will now create a new DF with actual classes and the predicted probabilities\n",
    "# create a temp y_test DF to reset its index to allow proper concaternation with y_hat_test_proba\n",
    "y_test_temp = y_test_woe.copy()\n",
    "y_test_temp.reset_index(drop = True, inplace = True)\n",
    "y_test_proba = pd.concat([y_test_temp, pd.DataFrame(y_hat_test_proba)], axis = 1)\n",
    "# check the shape to make sure the number of rows is same as that in y_test\n",
    "y_test_proba.shape\n",
    "\n",
    "# Rename the columns\n",
    "y_test_proba.columns = ['y_test_class_actual', 'y_hat_test_proba']\n",
    "# Makes the index of one dataframe equal to the index of another dataframe.\n",
    "y_test_proba.index = x_test_woe.index\n",
    "y_test_proba.head()"
   ]
  },
  {
   "cell_type": "code",
   "execution_count": 35,
   "metadata": {},
   "outputs": [
    {
     "data": {
      "text/plain": [
       "<sklearn.metrics._plot.confusion_matrix.ConfusionMatrixDisplay at 0x27728d5b9d0>"
      ]
     },
     "execution_count": 35,
     "metadata": {},
     "output_type": "execute_result"
    },
    {
     "data": {
      "image/png": "[encoded data removed]",
      "text/plain": [
       "<Figure size 432x288 with 2 Axes>"
      ]
     },
     "metadata": {
      "needs_background": "light"
     },
     "output_type": "display_data"
    }
   ],
   "source": [
    "# assign a threshold value to differentiate (base = 50% prob)\n",
    "tr = 0.26\n",
    "# crate a new column for the predicted class based on predicted probabilities and threshold\n",
    "# We will determine this optimal threshold later in this project\n",
    "y_test_proba['y_test_class_predicted'] = np.where(y_test_proba['y_hat_test_proba'] > tr, 1, 0)\n",
    "# create the confusion matrix\n",
    "cm=confusion_matrix(y_test_proba['y_test_class_actual'],\n",
    "                 y_test_proba['y_test_class_predicted']\n",
    "                   )\n",
    "cm\n",
    "cmd = ConfusionMatrixDisplay(cm, display_labels=['good','bad'])\n",
    "cmd.plot()"
   ]
  },
  {
   "cell_type": "code",
   "execution_count": 36,
   "metadata": {},
   "outputs": [],
   "source": [
    "rec=[]\n",
    "prec=[]\n",
    "accu=[]\n",
    "ruc=[]\n",
    "gi=[]\n",
    "threshold=[0.10,0.15,0.20,0.25,0.26,0.27,0.28,0.29,0.30,0.31,0.32,0.33,0.34,0.35,0.40,0.45,0.50]\n",
    "# assign a threshold value to differentiate (base = 50% prob)\n",
    "\n",
    "for tr in threshold:\n",
    "    \n",
    "    y_test_proba['y_test_class_predicted'] = np.where(y_test_proba['y_hat_test_proba'] > tr, 1, 0)\n",
    "    cm=confusion_matrix(y_test_proba['y_test_class_actual'],y_test_proba['y_test_class_predicted'])\n",
    "\n",
    "    recall=cm[1,1]/(cm[1,1]+cm[1,0])\n",
    "    precision=cm[1,1]/(cm[1,1]+cm[0,1])\n",
    "    accuracy=(cm[1,1]+cm[0,0])/(cm[0,0]+cm[0,1]+cm[1,0]+cm[1,1])\n",
    "    auroc = roc_auc_score(y_test_proba['y_test_class_actual'], y_test_proba['y_test_class_predicted'])\n",
    "    gini = auroc * 2 - 1\n",
    "    rec.append(recall)\n",
    "    prec.append(precision)\n",
    "    accu.append(accuracy)\n",
    "    ruc.append(auroc)\n",
    "    gi.append(gini)\n",
    "    \n",
    "metrix=pd.DataFrame(list(zip(threshold,accu,prec,rec,ruc,gi)),\n",
    "columns=['threshold','accuracy', 'precision','recall','auroc','gini'])    "
   ]
  },
  {
   "cell_type": "code",
   "execution_count": 37,
   "metadata": {},
   "outputs": [
    {
     "data": {
      "text/html": [
       "<div>\n",
       "<style scoped>\n",
       "    .dataframe tbody tr th:only-of-type {\n",
       "        vertical-align: middle;\n",
       "    }\n",
       "\n",
       "    .dataframe tbody tr th {\n",
       "        vertical-align: top;\n",
       "    }\n",
       "\n",
       "    .dataframe thead th {\n",
       "        text-align: right;\n",
       "    }\n",
       "</style>\n",
       "<table border=\"1\" class=\"dataframe\">\n",
       "  <thead>\n",
       "    <tr style=\"text-align: right;\">\n",
       "      <th></th>\n",
       "      <th>threshold</th>\n",
       "      <th>accuracy</th>\n",
       "      <th>precision</th>\n",
       "      <th>recall</th>\n",
       "      <th>auroc</th>\n",
       "      <th>gini</th>\n",
       "    </tr>\n",
       "  </thead>\n",
       "  <tbody>\n",
       "    <tr>\n",
       "      <th>0</th>\n",
       "      <td>0.10</td>\n",
       "      <td>0.415667</td>\n",
       "      <td>0.267248</td>\n",
       "      <td>0.9355</td>\n",
       "      <td>0.601321</td>\n",
       "      <td>0.202643</td>\n",
       "    </tr>\n",
       "    <tr>\n",
       "      <th>1</th>\n",
       "      <td>0.15</td>\n",
       "      <td>0.654222</td>\n",
       "      <td>0.365245</td>\n",
       "      <td>0.7535</td>\n",
       "      <td>0.689679</td>\n",
       "      <td>0.379357</td>\n",
       "    </tr>\n",
       "    <tr>\n",
       "      <th>2</th>\n",
       "      <td>0.20</td>\n",
       "      <td>0.755556</td>\n",
       "      <td>0.461744</td>\n",
       "      <td>0.6035</td>\n",
       "      <td>0.701250</td>\n",
       "      <td>0.402500</td>\n",
       "    </tr>\n",
       "    <tr>\n",
       "      <th>3</th>\n",
       "      <td>0.25</td>\n",
       "      <td>0.783667</td>\n",
       "      <td>0.512625</td>\n",
       "      <td>0.5380</td>\n",
       "      <td>0.695929</td>\n",
       "      <td>0.391857</td>\n",
       "    </tr>\n",
       "    <tr>\n",
       "      <th>4</th>\n",
       "      <td>0.26</td>\n",
       "      <td>0.787667</td>\n",
       "      <td>0.522041</td>\n",
       "      <td>0.5270</td>\n",
       "      <td>0.694571</td>\n",
       "      <td>0.389143</td>\n",
       "    </tr>\n",
       "    <tr>\n",
       "      <th>5</th>\n",
       "      <td>0.27</td>\n",
       "      <td>0.789444</td>\n",
       "      <td>0.526827</td>\n",
       "      <td>0.5155</td>\n",
       "      <td>0.691607</td>\n",
       "      <td>0.383214</td>\n",
       "    </tr>\n",
       "    <tr>\n",
       "      <th>6</th>\n",
       "      <td>0.28</td>\n",
       "      <td>0.791889</td>\n",
       "      <td>0.533229</td>\n",
       "      <td>0.5095</td>\n",
       "      <td>0.691036</td>\n",
       "      <td>0.382071</td>\n",
       "    </tr>\n",
       "    <tr>\n",
       "      <th>7</th>\n",
       "      <td>0.29</td>\n",
       "      <td>0.794444</td>\n",
       "      <td>0.540279</td>\n",
       "      <td>0.5030</td>\n",
       "      <td>0.690357</td>\n",
       "      <td>0.380714</td>\n",
       "    </tr>\n",
       "    <tr>\n",
       "      <th>8</th>\n",
       "      <td>0.30</td>\n",
       "      <td>0.796111</td>\n",
       "      <td>0.545656</td>\n",
       "      <td>0.4930</td>\n",
       "      <td>0.687857</td>\n",
       "      <td>0.375714</td>\n",
       "    </tr>\n",
       "    <tr>\n",
       "      <th>9</th>\n",
       "      <td>0.31</td>\n",
       "      <td>0.798778</td>\n",
       "      <td>0.554031</td>\n",
       "      <td>0.4845</td>\n",
       "      <td>0.686536</td>\n",
       "      <td>0.373071</td>\n",
       "    </tr>\n",
       "    <tr>\n",
       "      <th>10</th>\n",
       "      <td>0.32</td>\n",
       "      <td>0.800111</td>\n",
       "      <td>0.559292</td>\n",
       "      <td>0.4740</td>\n",
       "      <td>0.683643</td>\n",
       "      <td>0.367286</td>\n",
       "    </tr>\n",
       "    <tr>\n",
       "      <th>11</th>\n",
       "      <td>0.33</td>\n",
       "      <td>0.801778</td>\n",
       "      <td>0.565534</td>\n",
       "      <td>0.4660</td>\n",
       "      <td>0.681857</td>\n",
       "      <td>0.363714</td>\n",
       "    </tr>\n",
       "    <tr>\n",
       "      <th>12</th>\n",
       "      <td>0.34</td>\n",
       "      <td>0.807222</td>\n",
       "      <td>0.585209</td>\n",
       "      <td>0.4550</td>\n",
       "      <td>0.681429</td>\n",
       "      <td>0.362857</td>\n",
       "    </tr>\n",
       "    <tr>\n",
       "      <th>13</th>\n",
       "      <td>0.35</td>\n",
       "      <td>0.809000</td>\n",
       "      <td>0.594486</td>\n",
       "      <td>0.4420</td>\n",
       "      <td>0.677929</td>\n",
       "      <td>0.355857</td>\n",
       "    </tr>\n",
       "    <tr>\n",
       "      <th>14</th>\n",
       "      <td>0.40</td>\n",
       "      <td>0.818000</td>\n",
       "      <td>0.643879</td>\n",
       "      <td>0.4050</td>\n",
       "      <td>0.670500</td>\n",
       "      <td>0.341000</td>\n",
       "    </tr>\n",
       "    <tr>\n",
       "      <th>15</th>\n",
       "      <td>0.45</td>\n",
       "      <td>0.818333</td>\n",
       "      <td>0.664563</td>\n",
       "      <td>0.3685</td>\n",
       "      <td>0.657679</td>\n",
       "      <td>0.315357</td>\n",
       "    </tr>\n",
       "    <tr>\n",
       "      <th>16</th>\n",
       "      <td>0.50</td>\n",
       "      <td>0.816667</td>\n",
       "      <td>0.675351</td>\n",
       "      <td>0.3370</td>\n",
       "      <td>0.645357</td>\n",
       "      <td>0.290714</td>\n",
       "    </tr>\n",
       "  </tbody>\n",
       "</table>\n",
       "</div>"
      ],
      "text/plain": [
       "    threshold  accuracy  precision  recall     auroc      gini\n",
       "0        0.10  0.415667   0.267248  0.9355  0.601321  0.202643\n",
       "1        0.15  0.654222   0.365245  0.7535  0.689679  0.379357\n",
       "2        0.20  0.755556   0.461744  0.6035  0.701250  0.402500\n",
       "3        0.25  0.783667   0.512625  0.5380  0.695929  0.391857\n",
       "4        0.26  0.787667   0.522041  0.5270  0.694571  0.389143\n",
       "5        0.27  0.789444   0.526827  0.5155  0.691607  0.383214\n",
       "6        0.28  0.791889   0.533229  0.5095  0.691036  0.382071\n",
       "7        0.29  0.794444   0.540279  0.5030  0.690357  0.380714\n",
       "8        0.30  0.796111   0.545656  0.4930  0.687857  0.375714\n",
       "9        0.31  0.798778   0.554031  0.4845  0.686536  0.373071\n",
       "10       0.32  0.800111   0.559292  0.4740  0.683643  0.367286\n",
       "11       0.33  0.801778   0.565534  0.4660  0.681857  0.363714\n",
       "12       0.34  0.807222   0.585209  0.4550  0.681429  0.362857\n",
       "13       0.35  0.809000   0.594486  0.4420  0.677929  0.355857\n",
       "14       0.40  0.818000   0.643879  0.4050  0.670500  0.341000\n",
       "15       0.45  0.818333   0.664563  0.3685  0.657679  0.315357\n",
       "16       0.50  0.816667   0.675351  0.3370  0.645357  0.290714"
      ]
     },
     "execution_count": 37,
     "metadata": {},
     "output_type": "execute_result"
    }
   ],
   "source": [
    "metrix"
   ]
  },
  {
   "attachments": {},
   "cell_type": "markdown",
   "metadata": {},
   "source": [
    "After dropping the variables, the achieved result has been improved. Accuracy , precision, recall auc and gini index has been checked with respect to different threshold. I have applied probability 0.10 to 0.50 and 0.26 came out the optimal for the modelling with accuracy 0.787889, precision 0.522403, recall 0.5305, ruc 0.695964 and gini 0.391929. This is clearly seen that recall value has improved from 0.35 to 0.53 and AUC from 0.64 to 0.69\n",
    "\n"
   ]
  },
  {
   "cell_type": "code",
   "execution_count": 39,
   "metadata": {},
   "outputs": [
    {
     "data": {
      "text/plain": [
       "<sklearn.metrics._plot.confusion_matrix.ConfusionMatrixDisplay at 0x2772001d790>"
      ]
     },
     "execution_count": 39,
     "metadata": {},
     "output_type": "execute_result"
    },
    {
     "data": {
      "image/png": "[encoded data removed]",
      "text/plain": [
       "<Figure size 432x288 with 2 Axes>"
      ]
     },
     "metadata": {
      "needs_background": "light"
     },
     "output_type": "display_data"
    }
   ],
   "source": [
    "# assign a threshold value to differentiate (base = 50% prob)\n",
    "tr = 0.26\n",
    "# crate a new column for the predicted class based on predicted probabilities and threshold\n",
    "# We will determine this optimal threshold later in this project\n",
    "y_test_proba['y_test_class_predicted'] = np.where(y_test_proba['y_hat_test_proba'] > tr, 1, 0)\n",
    "# create the confusion matrix\n",
    "cm=confusion_matrix(y_test_proba['y_test_class_actual'],\n",
    "                 y_test_proba['y_test_class_predicted']\n",
    "                   )\n",
    "cm\n",
    "cmd = ConfusionMatrixDisplay(cm, display_labels=['good','bad'])\n",
    "cmd.plot()\n"
   ]
  },
  {
   "cell_type": "code",
   "execution_count": null,
   "metadata": {},
   "outputs": [],
   "source": []
  }
 ],
 "metadata": {
  "kernelspec": {
   "display_name": "Python 3",
   "language": "python",
   "name": "python3"
  },
  "language_info": {
   "codemirror_mode": {
    "name": "ipython",
    "version": 3
   },
   "file_extension": ".py",
   "mimetype": "text/x-python",
   "name": "python",
   "nbconvert_exporter": "python",
   "pygments_lexer": "ipython3",
   "version": "3.9.12"
  },
  "orig_nbformat": 4
 },
 "nbformat": 4,
 "nbformat_minor": 2
}
